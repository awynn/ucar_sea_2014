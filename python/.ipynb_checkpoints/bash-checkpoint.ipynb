{
 "metadata": {
  "celltoolbar": "Slideshow",
  "name": "",
  "signature": "sha256:c6f4d4ff156daa8932721e52437e8b5ef0bc12c53c3d661eba23bfb80c6d09e5"
 },
 "nbformat": 3,
 "nbformat_minor": 0,
 "worksheets": [
  {
   "cells": [
    {
     "cell_type": "heading",
     "level": 1,
     "metadata": {
      "slideshow": {
       "slide_type": "slide"
      }
     },
     "source": [
      "Bash Notebook Tutorial"
     ]
    },
    {
     "cell_type": "markdown",
     "metadata": {},
     "source": [
      "A `bash` notebook of the blog [http://quickleft.com/blog/command-line-tutorials-sed-awk](http://quickleft.com/blog/command-line-tutorials-sed-awk)"
     ]
    },
    {
     "cell_type": "heading",
     "level": 2,
     "metadata": {
      "slideshow": {
       "slide_type": "slide"
      }
     },
     "source": [
      "*S*tream *ED*itor: `sed`"
     ]
    },
    {
     "cell_type": "markdown",
     "metadata": {},
     "source": [
      "Perform operations on files you are passing around through pipes."
     ]
    },
    {
     "cell_type": "markdown",
     "metadata": {},
     "source": [
      "###Text substitution: edit replace                       "
     ]
    },
    {
     "cell_type": "code",
     "collapsed": false,
     "input": [
      "echo \"it's a trap\" | sed s/ra/ar/"
     ],
     "language": "python",
     "metadata": {},
     "outputs": [
      {
       "output_type": "stream",
       "stream": "stdout",
       "text": [
        "it's a tarp\n"
       ]
      }
     ],
     "prompt_number": 2
    },
    {
     "cell_type": "markdown",
     "metadata": {},
     "source": [
      "- The `s` is for **substitute**.\n",
      "- `/` separates the componets of our command\n",
      "- `ra` is a regular expression\n",
      "- `ar` is what we wish to replace the regex with"
     ]
    },
    {
     "cell_type": "markdown",
     "metadata": {
      "slideshow": {
       "slide_type": "slide"
      }
     },
     "source": [
      "What about on a file?"
     ]
    },
    {
     "cell_type": "code",
     "collapsed": false,
     "input": [
      "echo \"how now brown cow\" > temp.txt\n",
      "sed s/ow/aagh/ temp.txt"
     ],
     "language": "python",
     "metadata": {},
     "outputs": [
      {
       "output_type": "stream",
       "stream": "stdout",
       "text": [
        "haagh now brown cow\n"
       ]
      }
     ],
     "prompt_number": 3
    },
    {
     "cell_type": "code",
     "collapsed": false,
     "input": [
      "sed s/ow/aagh/g temp.txt"
     ],
     "language": "python",
     "metadata": {},
     "outputs": [
      {
       "output_type": "stream",
       "stream": "stdout",
       "text": [
        "haagh naagh braaghn caagh\n"
       ]
      }
     ],
     "prompt_number": 4
    },
    {
     "cell_type": "markdown",
     "metadata": {
      "slideshow": {
       "slide_type": "slide"
      }
     },
     "source": [
      "But it doesn't save the file."
     ]
    },
    {
     "cell_type": "code",
     "collapsed": false,
     "input": [
      "cat temp.txt"
     ],
     "language": "python",
     "metadata": {},
     "outputs": [
      {
       "output_type": "stream",
       "stream": "stdout",
       "text": [
        "how now brown cow\n"
       ]
      }
     ],
     "prompt_number": 5
    },
    {
     "cell_type": "code",
     "collapsed": false,
     "input": [
      "sed -ie 's/ow/aagh/g' ~/temp.txt\n",
      "cat temp.txt"
     ],
     "language": "python",
     "metadata": {},
     "outputs": [
      {
       "output_type": "stream",
       "stream": "stdout",
       "text": [
        "how now brown cow\n"
       ]
      }
     ],
     "prompt_number": 6
    },
    {
     "cell_type": "markdown",
     "metadata": {
      "slideshow": {
       "slide_type": "slide"
      }
     },
     "source": [
      "### The `head` command"
     ]
    },
    {
     "cell_type": "code",
     "collapsed": false,
     "input": [
      "sed '11,$ d' ~/temp.txt"
     ],
     "language": "python",
     "metadata": {},
     "outputs": [
      {
       "output_type": "stream",
       "stream": "stdout",
       "text": [
        "haagh naagh braaghn caagh\n"
       ]
      }
     ],
     "prompt_number": 7
    },
    {
     "cell_type": "markdown",
     "metadata": {},
     "source": [
      "- `11,$` delete from the 11 line to the end."
     ]
    },
    {
     "cell_type": "code",
     "collapsed": false,
     "input": [
      "cat example.sh"
     ],
     "language": "python",
     "metadata": {
      "slideshow": {
       "slide_type": "slide"
      }
     },
     "outputs": [
      {
       "output_type": "stream",
       "stream": "stdout",
       "text": [
        "# This is a simple bash script____\n",
        "# with comments________\n",
        " \n",
        "echo 'hello'\n",
        "\n",
        "_____\n",
        "#one last comment."
       ]
      }
     ],
     "prompt_number": 9
    },
    {
     "cell_type": "code",
     "collapsed": false,
     "input": [
      "sed '/^#.*$/ d' example.sh"
     ],
     "language": "python",
     "metadata": {},
     "outputs": [
      {
       "output_type": "stream",
       "stream": "stdout",
       "text": [
        " \n",
        "echo 'hello'\n",
        "\n",
        "_____\n"
       ]
      }
     ],
     "prompt_number": 10
    },
    {
     "cell_type": "markdown",
     "metadata": {},
     "source": [
      "Remove blank lines and the lines that start with `_`."
     ]
    },
    {
     "cell_type": "code",
     "collapsed": false,
     "input": [
      "sed '/^[ _]*$/ d' example.sh"
     ],
     "language": "python",
     "metadata": {},
     "outputs": [
      {
       "output_type": "stream",
       "stream": "stdout",
       "text": [
        "# This is a simple bash script____\n",
        "# with comments________\n",
        "echo 'hello'\n",
        "#one last comment.\n"
       ]
      }
     ],
     "prompt_number": 11
    },
    {
     "cell_type": "markdown",
     "metadata": {
      "slideshow": {
       "slide_type": "slide"
      }
     },
     "source": [
      "Remove blank lines and (`;`) strip the `_` from the end."
     ]
    },
    {
     "cell_type": "code",
     "collapsed": false,
     "input": [
      "sed 's/[_]*$//;/^[\\ ]*$/d' example.sh"
     ],
     "language": "python",
     "metadata": {},
     "outputs": [
      {
       "output_type": "stream",
       "stream": "stdout",
       "text": [
        "# This is a simple bash script\n",
        "# with comments\n",
        "echo 'hello'\n",
        "#one last comment.\n"
       ]
      }
     ],
     "prompt_number": 12
    },
    {
     "cell_type": "markdown",
     "metadata": {},
     "source": [
      "How about just the `echo` command?"
     ]
    },
    {
     "cell_type": "code",
     "collapsed": false,
     "input": [
      "sed '/^[\\ ]*$/d;s/[_]*$//;/^#/d' example.sh"
     ],
     "language": "python",
     "metadata": {},
     "outputs": [
      {
       "output_type": "stream",
       "stream": "stdout",
       "text": [
        "echo 'hello'\n",
        "\n"
       ]
      }
     ],
     "prompt_number": 13
    },
    {
     "cell_type": "markdown",
     "metadata": {
      "slideshow": {
       "slide_type": "slide"
      }
     },
     "source": [
      "## `awk`\n",
      "\n",
      "`awk` 'condition `{` action `}`'"
     ]
    },
    {
     "cell_type": "code",
     "collapsed": false,
     "input": [
      "ls -la > temp.text\n",
      "awk '/lecture/ {print $1, $9;}' temp.text"
     ],
     "language": "python",
     "metadata": {},
     "outputs": [
      {
       "output_type": "stream",
       "stream": "stdout",
       "text": [
        "-rw-r--r-- lecture_01_introduction.ipynb\n",
        "-rw-r--r-- lecture_02_basics.ipynb\n",
        "-rw-r--r-- lecture_03_data_structures.ipynb\n",
        "-rw-r--r-- lecture_04_control.ipynb\n",
        "-rw-r--r-- lecture_05_procedual.ipynb\n",
        "-rw-r--r-- lecture_06_numpy.ipynb\n",
        "-rw-r--r-- lecture_07_pandas.ipynb\n",
        "-rw-r--r-- lecture_08_pandas_movies.ipynb\n",
        "-rw-r--r-- lecture_09_multilevel_pandas.ipynb\n",
        "-rw-r--r-- lecture_10_bash_python.ipynb\n",
        "-rw-r--r-- lecture_11_matplotlib.ipynb\n",
        "-rw-r--r-- lecture_11_matplotlib.py\n",
        "-rw-r--r-- lecture_12_matplotlib_style.ipynb\n",
        "-rw-r--r-- lecture_12_matplotlib_style.py\n",
        "-rw-r--r-- lecture_13_matplotlib_examples.ipynb\n",
        "-rw-r--r-- lecture_13_matplotlib_examples.py\n",
        "-rw-r--r-- lecture_14_matplotlib_alternatives.ipynb\n",
        "-rw-r--r-- lecture_14_matplotlib_alternatives.py\n",
        "-rw-r--r-- lecture_15_sklearn_introduction.ipynb\n",
        "-rw-r--r-- lecture_15_sklearn_introduction.py\n"
       ]
      }
     ],
     "prompt_number": 14
    },
    {
     "cell_type": "markdown",
     "metadata": {
      "slideshow": {
       "slide_type": "slide"
      }
     },
     "source": [
      "The default action is to print the entire record"
     ]
    },
    {
     "cell_type": "code",
     "collapsed": false,
     "input": [
      "awk '/lecture/' temp.text"
     ],
     "language": "python",
     "metadata": {},
     "outputs": [
      {
       "output_type": "stream",
       "stream": "stdout",
       "text": [
        "-rw-r--r--   1 mlunacek  staff     5044 Feb 27 12:49 lecture_01_introduction.ipynb\n",
        "-rw-r--r--   1 mlunacek  staff    12188 Feb 13 09:20 lecture_02_basics.ipynb\n",
        "-rw-r--r--   1 mlunacek  staff    21115 Feb 13 09:20 lecture_03_data_structures.ipynb\n",
        "-rw-r--r--   1 mlunacek  staff    17971 Feb 13 09:20 lecture_04_control.ipynb\n",
        "-rw-r--r--   1 mlunacek  staff    10627 Feb 13 09:20 lecture_05_procedual.ipynb\n",
        "-rw-r--r--   1 mlunacek  staff   110882 Feb 13 15:41 lecture_06_numpy.ipynb\n",
        "-rw-r--r--   1 mlunacek  staff    40405 Feb 20 11:57 lecture_07_pandas.ipynb\n",
        "-rw-r--r--   1 mlunacek  staff    68756 Feb 20 12:20 lecture_08_pandas_movies.ipynb\n",
        "-rw-r--r--   1 mlunacek  staff    25216 Feb 20 12:30 lecture_09_multilevel_pandas.ipynb\n",
        "-rw-r--r--   1 mlunacek  staff    76650 Mar  4 13:39 lecture_10_bash_python.ipynb\n",
        "-rw-r--r--   1 mlunacek  staff   156602 Mar 13 12:43 lecture_11_matplotlib.ipynb\n",
        "-rw-r--r--   1 mlunacek  staff     5442 Mar 13 12:43 lecture_11_matplotlib.py\n",
        "-rw-r--r--   1 mlunacek  staff   226424 Mar  6 12:24 lecture_12_matplotlib_style.ipynb\n",
        "-rw-r--r--   1 mlunacek  staff     6552 Mar  6 12:24 lecture_12_matplotlib_style.py\n",
        "-rw-r--r--   1 mlunacek  staff   728843 Mar  7 06:19 lecture_13_matplotlib_examples.ipynb\n",
        "-rw-r--r--   1 mlunacek  staff     5567 Mar  7 06:19 lecture_13_matplotlib_examples.py\n",
        "-rw-r--r--   1 mlunacek  staff   148259 Mar  8 00:50 lecture_14_matplotlib_alternatives.ipynb\n",
        "-rw-r--r--   1 mlunacek  staff     6539 Mar  8 00:50 lecture_14_matplotlib_alternatives.py\n",
        "-rw-r--r--   1 mlunacek  staff     2049 Mar 15 08:48 lecture_15_sklearn_introduction.ipynb\n",
        "-rw-r--r--   1 mlunacek  staff     1341 Mar 15 08:48 lecture_15_sklearn_introduction.py\n"
       ]
      }
     ],
     "prompt_number": 15
    },
    {
     "cell_type": "code",
     "collapsed": false,
     "input": [
      "awk '$9 ~/ipynb$/ { gsub(/lecture/, \"lec\"); print $9;}' temp.text"
     ],
     "language": "python",
     "metadata": {
      "slideshow": {
       "slide_type": "slide"
      }
     },
     "outputs": [
      {
       "output_type": "stream",
       "stream": "stdout",
       "text": [
        "bash_python_results.ipynb\n",
        "exercise_01_dictionary.ipynb\n",
        "exercise_02_classification.ipynb\n",
        "lec_01_introduction.ipynb\n",
        "lec_02_basics.ipynb\n",
        "lec_03_data_structures.ipynb\n",
        "lec_04_control.ipynb\n",
        "lec_05_procedual.ipynb\n",
        "lec_06_numpy.ipynb\n",
        "lec_07_pandas.ipynb\n",
        "lec_08_pandas_movies.ipynb\n",
        "lec_09_multilevel_pandas.ipynb\n",
        "lec_10_bash_python.ipynb\n",
        "lec_11_matplotlib.ipynb\n",
        "lec_12_matplotlib_style.ipynb\n",
        "lec_13_matplotlib_examples.ipynb\n",
        "lec_14_matplotlib_alternatives.ipynb\n",
        "lec_15_sklearn_introduction.ipynb\n",
        "tutorial_00_sed_awk.ipynb\n",
        "tutorial_01_filling_in_the_gap.ipynb\n"
       ]
      }
     ],
     "prompt_number": 16
    },
    {
     "cell_type": "code",
     "collapsed": false,
     "input": [
      "ls -la | awk '$9 ~/ipynb$/ { gsub(/lecture/, \"lec\"); print $9;}'"
     ],
     "language": "python",
     "metadata": {
      "slideshow": {
       "slide_type": "slide"
      }
     },
     "outputs": [
      {
       "output_type": "stream",
       "stream": "stdout",
       "text": [
        "bash_python_results.ipynb\n",
        "exercise_01_dictionary.ipynb\n",
        "exercise_02_classification.ipynb\n",
        "lec_01_introduction.ipynb\n",
        "lec_02_basics.ipynb\n",
        "lec_03_data_structures.ipynb\n",
        "lec_04_control.ipynb\n",
        "lec_05_procedual.ipynb\n",
        "lec_06_numpy.ipynb\n",
        "lec_07_pandas.ipynb\n",
        "lec_08_pandas_movies.ipynb\n",
        "lec_09_multilevel_pandas.ipynb\n",
        "lec_10_bash_python.ipynb\n",
        "lec_11_matplotlib.ipynb\n",
        "lec_12_matplotlib_style.ipynb\n",
        "lec_13_matplotlib_examples.ipynb\n",
        "lec_14_matplotlib_alternatives.ipynb\n",
        "lec_15_sklearn_introduction.ipynb\n",
        "tutorial_00_sed_awk.ipynb\n",
        "tutorial_01_filling_in_the_gap.ipynb\n"
       ]
      }
     ],
     "prompt_number": 17
    },
    {
     "cell_type": "code",
     "collapsed": false,
     "input": [],
     "language": "python",
     "metadata": {},
     "outputs": []
    }
   ],
   "metadata": {}
  }
 ]
}