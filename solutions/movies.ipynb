{
 "metadata": {
  "name": "",
  "signature": "sha256:68a361e6855cb16e1c6aea6b1cd4af7d452e21e9cffa452a6d48415fec824cb1"
 },
 "nbformat": 3,
 "nbformat_minor": 0,
 "worksheets": [
  {
   "cells": [
    {
     "cell_type": "markdown",
     "metadata": {},
     "source": [
      "##Movies\n",
      "\n",
      "This is adapted from [Python for Data Analysis](http://www.amazon.com/Python-Data-Analysis-Wrangling-IPython/dp/1449319793) by Wes McKinney\n",
      "\n",
      "- Joining\n",
      "- Groupby\n",
      "- Sorting\n",
      "\n",
      "Ultimate question: What's the best **date-night movie**?\n",
      "\n",
      "- Highly rated movie\n",
      "- That appeals to both `M` and `F`\n"
     ]
    },
    {
     "cell_type": "code",
     "collapsed": false,
     "input": [
      "import os\n",
      "import pandas as pd"
     ],
     "language": "python",
     "metadata": {},
     "outputs": [],
     "prompt_number": 1
    },
    {
     "cell_type": "markdown",
     "metadata": {},
     "source": [
      "### Read in the movie data: `pd.read_table`"
     ]
    },
    {
     "cell_type": "code",
     "collapsed": false,
     "input": [
      "def get_movie_data():\n",
      "    \n",
      "    unames = ['user_id','gender','age','occupation','zip']\n",
      "    users = pd.read_table(os.path.join('data','movies','users.dat'), \n",
      "                          sep='::', header=None, names=unames)\n",
      "    \n",
      "    rnames = ['user_id', 'movie_id', 'rating', 'timestamp']\n",
      "    ratings = pd.read_table(os.path.join('data','movies','ratings.dat'), \n",
      "                            sep='::', header=None, names=rnames)\n",
      "    \n",
      "    mnames = ['movie_id', 'title','genres']\n",
      "    movies = pd.read_table(os.path.join('data','movies','movies.dat'), \n",
      "                           sep='::', header=None, names=mnames)\n",
      "\n",
      "    return users, ratings, movies"
     ],
     "language": "python",
     "metadata": {},
     "outputs": [],
     "prompt_number": 2
    },
    {
     "cell_type": "code",
     "collapsed": false,
     "input": [
      "users, ratings, movies = get_movie_data()"
     ],
     "language": "python",
     "metadata": {},
     "outputs": [],
     "prompt_number": 3
    },
    {
     "cell_type": "code",
     "collapsed": false,
     "input": [
      "print users.head()"
     ],
     "language": "python",
     "metadata": {},
     "outputs": [
      {
       "output_type": "stream",
       "stream": "stdout",
       "text": [
        "   user_id gender  age  occupation    zip\n",
        "0        1      F    1          10  48067\n",
        "1        2      M   56          16  70072\n",
        "2        3      M   25          15  55117\n",
        "3        4      M   45           7  02460\n",
        "4        5      M   25          20  55455\n",
        "\n",
        "[5 rows x 5 columns]\n"
       ]
      }
     ],
     "prompt_number": 4
    },
    {
     "cell_type": "code",
     "collapsed": false,
     "input": [
      "print ratings.head()"
     ],
     "language": "python",
     "metadata": {},
     "outputs": [
      {
       "output_type": "stream",
       "stream": "stdout",
       "text": [
        "   user_id  movie_id  rating  timestamp\n",
        "0        1      1193       5  978300760\n",
        "1        1       661       3  978302109\n",
        "2        1       914       3  978301968\n",
        "3        1      3408       4  978300275\n",
        "4        1      2355       5  978824291\n",
        "\n",
        "[5 rows x 4 columns]\n"
       ]
      }
     ],
     "prompt_number": 5
    },
    {
     "cell_type": "code",
     "collapsed": false,
     "input": [
      "print movies.head()"
     ],
     "language": "python",
     "metadata": {},
     "outputs": [
      {
       "output_type": "stream",
       "stream": "stdout",
       "text": [
        "   movie_id                               title                        genres\n",
        "0         1                    Toy Story (1995)   Animation|Children's|Comedy\n",
        "1         2                      Jumanji (1995)  Adventure|Children's|Fantasy\n",
        "2         3             Grumpier Old Men (1995)                Comedy|Romance\n",
        "3         4            Waiting to Exhale (1995)                  Comedy|Drama\n",
        "4         5  Father of the Bride Part II (1995)                        Comedy\n",
        "\n",
        "[5 rows x 3 columns]\n"
       ]
      }
     ],
     "prompt_number": 6
    },
    {
     "cell_type": "markdown",
     "metadata": {},
     "source": [
      "### Clean up the `movies`\n",
      "\n",
      "- Get the `year`\n",
      "- Shorten the `title`\n",
      "\n",
      "This is dense code. Skip."
     ]
    },
    {
     "cell_type": "code",
     "collapsed": false,
     "input": [
      "tmp = movies.title.str.match('(.*) \\(([0-9]+)\\)')\n",
      "movies['year'] = tmp.map(lambda x: x[1] if len(x) > 0 else None)\n",
      "movies['short_title'] = tmp.map(lambda x: x[0][:40] if len(x) > 0 else None)"
     ],
     "language": "python",
     "metadata": {},
     "outputs": [],
     "prompt_number": 7
    },
    {
     "cell_type": "markdown",
     "metadata": {},
     "source": [
      "### Join the tables with `pd.merge`"
     ]
    },
    {
     "cell_type": "code",
     "collapsed": false,
     "input": [
      "data = pd.merge(pd.merge(ratings, users), movies)"
     ],
     "language": "python",
     "metadata": {},
     "outputs": [],
     "prompt_number": 8
    },
    {
     "cell_type": "code",
     "collapsed": false,
     "input": [
      "for c in data.columns:\n",
      "    print c"
     ],
     "language": "python",
     "metadata": {},
     "outputs": [
      {
       "output_type": "stream",
       "stream": "stdout",
       "text": [
        "user_id\n",
        "movie_id\n",
        "rating\n",
        "timestamp\n",
        "gender\n",
        "age\n",
        "occupation\n",
        "zip\n",
        "title\n",
        "genres\n",
        "year\n",
        "short_title\n"
       ]
      }
     ],
     "prompt_number": 9
    },
    {
     "cell_type": "markdown",
     "metadata": {},
     "source": [
      "### What's the highest rated movie?"
     ]
    },
    {
     "cell_type": "code",
     "collapsed": false,
     "input": [
      "tmp = data[['short_title','rating']]\n",
      "print tmp.head()\n",
      "print len(tmp)"
     ],
     "language": "python",
     "metadata": {},
     "outputs": [
      {
       "output_type": "stream",
       "stream": "stdout",
       "text": [
        "                       short_title  rating\n",
        "0  One Flew Over the Cuckoo's Nest       5\n",
        "1  One Flew Over the Cuckoo's Nest       5\n",
        "2  One Flew Over the Cuckoo's Nest       4\n",
        "3  One Flew Over the Cuckoo's Nest       4\n",
        "4  One Flew Over the Cuckoo's Nest       5\n",
        "\n",
        "[5 rows x 2 columns]\n",
        "1000209\n"
       ]
      }
     ],
     "prompt_number": 10
    },
    {
     "cell_type": "markdown",
     "metadata": {},
     "source": [
      "### Summary operations with `groupby`"
     ]
    },
    {
     "cell_type": "code",
     "collapsed": false,
     "input": [
      "grp = tmp.groupby('short_title')"
     ],
     "language": "python",
     "metadata": {},
     "outputs": [],
     "prompt_number": 11
    },
    {
     "cell_type": "code",
     "collapsed": false,
     "input": [
      "print type(grp)"
     ],
     "language": "python",
     "metadata": {},
     "outputs": [
      {
       "output_type": "stream",
       "stream": "stdout",
       "text": [
        "<class 'pandas.core.groupby.DataFrameGroupBy'>\n"
       ]
      }
     ],
     "prompt_number": 12
    },
    {
     "cell_type": "markdown",
     "metadata": {},
     "source": [
      "Summary with `describe()`"
     ]
    },
    {
     "cell_type": "code",
     "collapsed": false,
     "input": [
      "mean_rating = grp.mean()\n",
      "print mean_rating.describe()"
     ],
     "language": "python",
     "metadata": {},
     "outputs": [
      {
       "output_type": "stream",
       "stream": "stdout",
       "text": [
        "            rating\n",
        "count  3664.000000\n",
        "mean      3.237347\n",
        "std       0.674236\n",
        "min       1.000000\n",
        "25%       2.820216\n",
        "50%       3.329545\n",
        "75%       3.740150\n",
        "max       5.000000\n",
        "\n",
        "[8 rows x 1 columns]\n"
       ]
      }
     ],
     "prompt_number": 13
    },
    {
     "cell_type": "code",
     "collapsed": false,
     "input": [
      "print mean_rating.head()"
     ],
     "language": "python",
     "metadata": {},
     "outputs": [
      {
       "output_type": "stream",
       "stream": "stdout",
       "text": [
        "                          rating\n",
        "short_title                     \n",
        "$1,000,000 Duck         3.027027\n",
        "'Night Mother           3.371429\n",
        "'Til There Was You      2.692308\n",
        "'burbs, The             2.910891\n",
        "...And Justice for All  3.713568\n",
        "\n",
        "[5 rows x 1 columns]\n"
       ]
      }
     ],
     "prompt_number": 14
    },
    {
     "cell_type": "markdown",
     "metadata": {},
     "source": [
      "###What's the highest rated movie?"
     ]
    },
    {
     "cell_type": "markdown",
     "metadata": {},
     "source": [
      "Sort by `ratings` using the `sort()` method."
     ]
    },
    {
     "cell_type": "code",
     "collapsed": false,
     "input": [
      "print mean_rating.sort('rating', ascending=False).head(10)"
     ],
     "language": "python",
     "metadata": {},
     "outputs": [
      {
       "output_type": "stream",
       "stream": "stdout",
       "text": [
        "                                    rating\n",
        "short_title                               \n",
        "Ulysses (Ulisse)                         5\n",
        "Schlafes Bruder (Brother of Sleep)       5\n",
        "Smashing Time                            5\n",
        "Song of Freedom                          5\n",
        "Gate of Heavenly Peace, The              5\n",
        "Lured                                    5\n",
        "Baby, The                                5\n",
        "Bittersweet Motel                        5\n",
        "Follow the Bitch                         5\n",
        "One Little Indian                        5\n",
        "\n",
        "[10 rows x 1 columns]\n"
       ]
      }
     ],
     "prompt_number": 15
    },
    {
     "cell_type": "markdown",
     "metadata": {},
     "source": [
      "Apply more than one function to the group with the `agg()` method."
     ]
    },
    {
     "cell_type": "code",
     "collapsed": false,
     "input": [
      "mean_rating = grp['rating'].agg(['mean','count'])\n",
      "print mean_rating.sort('mean', ascending=False).head(10)"
     ],
     "language": "python",
     "metadata": {},
     "outputs": [
      {
       "output_type": "stream",
       "stream": "stdout",
       "text": [
        "                                    mean  count\n",
        "short_title                                    \n",
        "Ulysses (Ulisse)                       5      1\n",
        "Schlafes Bruder (Brother of Sleep)     5      1\n",
        "Smashing Time                          5      2\n",
        "Song of Freedom                        5      1\n",
        "Gate of Heavenly Peace, The            5      3\n",
        "Lured                                  5      1\n",
        "Baby, The                              5      1\n",
        "Bittersweet Motel                      5      1\n",
        "Follow the Bitch                       5      1\n",
        "One Little Indian                      5      1\n",
        "\n",
        "[10 rows x 2 columns]\n"
       ]
      }
     ],
     "prompt_number": 16
    },
    {
     "cell_type": "markdown",
     "metadata": {},
     "source": [
      "### Threshold on the number of ratings"
     ]
    },
    {
     "cell_type": "code",
     "collapsed": false,
     "input": [
      "mask = mean_rating['count'] > 1000\n",
      "\n",
      "print type(mask)\n",
      "print sum(mask)\n",
      "print mask.head()"
     ],
     "language": "python",
     "metadata": {},
     "outputs": [
      {
       "output_type": "stream",
       "stream": "stdout",
       "text": [
        "<class 'pandas.core.series.Series'>\n",
        "210"
       ]
      },
      {
       "output_type": "stream",
       "stream": "stdout",
       "text": [
        "\n",
        "short_title\n",
        "$1,000,000 Duck           False\n",
        "'Night Mother             False\n",
        "'Til There Was You        False\n",
        "'burbs, The               False\n",
        "...And Justice for All    False\n",
        "Name: count, dtype: bool\n"
       ]
      }
     ],
     "prompt_number": 17
    },
    {
     "cell_type": "code",
     "collapsed": false,
     "input": [
      "print mean_rating.ix[mask].head()"
     ],
     "language": "python",
     "metadata": {},
     "outputs": [
      {
       "output_type": "stream",
       "stream": "stdout",
       "text": [
        "                           mean  count\n",
        "short_title                           \n",
        "2001: A Space Odyssey  4.068765   1716\n",
        "Abyss, The             3.683965   1715\n",
        "African Queen, The     4.251656   1057\n",
        "Air Force One          3.588290   1076\n",
        "Airplane!              3.971115   1731\n",
        "\n",
        "[5 rows x 2 columns]\n"
       ]
      }
     ],
     "prompt_number": 18
    },
    {
     "cell_type": "code",
     "collapsed": false,
     "input": [
      "mean_rating.ix[mask]['count'].min()"
     ],
     "language": "python",
     "metadata": {},
     "outputs": [
      {
       "metadata": {},
       "output_type": "pyout",
       "prompt_number": 19,
       "text": [
        "1001"
       ]
      }
     ],
     "prompt_number": 19
    },
    {
     "cell_type": "markdown",
     "metadata": {},
     "source": [
      "###Highest rated movie with at least 1000 votes?"
     ]
    },
    {
     "cell_type": "code",
     "collapsed": false,
     "input": [
      "print mean_rating.ix[mask].sort('mean', ascending=False).head(10)"
     ],
     "language": "python",
     "metadata": {},
     "outputs": [
      {
       "output_type": "stream",
       "stream": "stdout",
       "text": [
        "                                              mean  count\n",
        "short_title                                              \n",
        "Shawshank Redemption, The                 4.554558   2227\n",
        "Godfather, The                            4.524966   2223\n",
        "Usual Suspects, The                       4.517106   1783\n",
        "Schindler's List                          4.510417   2304\n",
        "Raiders of the Lost Ark                   4.477725   2514\n",
        "Rear Window                               4.476190   1050\n",
        "Star Wars: Episode IV - A New Hope        4.453694   2991\n",
        "Dr. Strangelove or: How I Learned to Sto  4.449890   1367\n",
        "Casablanca                                4.412822   1669\n",
        "Sixth Sense, The                          4.406263   2459\n",
        "\n",
        "[10 rows x 2 columns]\n"
       ]
      }
     ],
     "prompt_number": 20
    },
    {
     "cell_type": "markdown",
     "metadata": {},
     "source": [
      "###What about gender?"
     ]
    },
    {
     "cell_type": "code",
     "collapsed": false,
     "input": [
      "print data.head(2)"
     ],
     "language": "python",
     "metadata": {},
     "outputs": [
      {
       "output_type": "stream",
       "stream": "stdout",
       "text": [
        "   user_id  movie_id  rating  timestamp gender  age  occupation    zip  \\\n",
        "0        1      1193       5  978300760      F    1          10  48067   \n",
        "1        2      1193       5  978298413      M   56          16  70072   \n",
        "\n",
        "                                    title genres  year  \\\n",
        "0  One Flew Over the Cuckoo's Nest (1975)  Drama  1975   \n",
        "1  One Flew Over the Cuckoo's Nest (1975)  Drama  1975   \n",
        "\n",
        "                       short_title  \n",
        "0  One Flew Over the Cuckoo's Nest  \n",
        "1  One Flew Over the Cuckoo's Nest  \n",
        "\n",
        "[2 rows x 12 columns]\n"
       ]
      }
     ],
     "prompt_number": 22
    },
    {
     "cell_type": "markdown",
     "metadata": {},
     "source": [
      "###Summary `pivot` with `pd.pivot_table`\n",
      "\n",
      "Like `pivot`, but will summarize and group."
     ]
    },
    {
     "cell_type": "code",
     "collapsed": false,
     "input": [
      "mean_ratings = pd.pivot_table(data, 'rating', rows='short_title', \n",
      "                              cols='gender', aggfunc='mean')\n",
      "print mean_ratings.head(10)"
     ],
     "language": "python",
     "metadata": {},
     "outputs": [
      {
       "output_type": "stream",
       "stream": "stdout",
       "text": [
        "gender                             F         M\n",
        "short_title                                   \n",
        "$1,000,000 Duck             3.375000  2.761905\n",
        "'Night Mother               3.388889  3.352941\n",
        "'Til There Was You          2.675676  2.733333\n",
        "'burbs, The                 2.793478  2.962085\n",
        "...And Justice for All      3.828571  3.689024\n",
        "1-900                       2.000000  3.000000\n",
        "10 Things I Hate About You  3.646552  3.311966\n",
        "101 Dalmatians              3.545994  3.287162\n",
        "12 Angry Men                4.184397  4.328421\n",
        "13th Warrior, The           3.112000  3.168000\n",
        "\n",
        "[10 rows x 2 columns]\n"
       ]
      }
     ],
     "prompt_number": 23
    },
    {
     "cell_type": "markdown",
     "metadata": {},
     "source": [
      "Only those that have at least 1000 votes."
     ]
    },
    {
     "cell_type": "code",
     "collapsed": false,
     "input": [
      "#pd.pivot_table?"
     ],
     "language": "python",
     "metadata": {},
     "outputs": [],
     "prompt_number": 25
    },
    {
     "cell_type": "code",
     "collapsed": false,
     "input": [
      "mean_ratings = mean_ratings.ix[mask]"
     ],
     "language": "python",
     "metadata": {},
     "outputs": [],
     "prompt_number": 26
    },
    {
     "cell_type": "markdown",
     "metadata": {},
     "source": [
      "###Favorites for `M`"
     ]
    },
    {
     "cell_type": "code",
     "collapsed": false,
     "input": [
      "print mean_ratings.sort('M', ascending=False).head(10)"
     ],
     "language": "python",
     "metadata": {},
     "outputs": [
      {
       "output_type": "stream",
       "stream": "stdout",
       "text": [
        "gender                                           F         M\n",
        "short_title                                                 \n",
        "Godfather, The                            4.314700  4.583333\n",
        "Shawshank Redemption, The                 4.539075  4.560625\n",
        "Raiders of the Lost Ark                   4.332168  4.520597\n",
        "Usual Suspects, The                       4.513317  4.518248\n",
        "Star Wars: Episode IV - A New Hope        4.302937  4.495307\n",
        "Schindler's List                          4.562602  4.491415\n",
        "Rear Window                               4.484536  4.472991\n",
        "Dr. Strangelove or: How I Learned to Sto  4.376623  4.464789\n",
        "Casablanca                                4.300990  4.461340\n",
        "Godfather: Part II, The                   4.040936  4.437778\n",
        "\n",
        "[10 rows x 2 columns]\n"
       ]
      }
     ],
     "prompt_number": 27
    },
    {
     "cell_type": "markdown",
     "metadata": {},
     "source": [
      "###Favorites for `F`"
     ]
    },
    {
     "cell_type": "code",
     "collapsed": false,
     "input": [
      "print mean_ratings.sort('F', ascending=False).head(10)"
     ],
     "language": "python",
     "metadata": {},
     "outputs": [
      {
       "output_type": "stream",
       "stream": "stdout",
       "text": [
        "gender                                           F         M\n",
        "short_title                                                 \n",
        "Schindler's List                          4.562602  4.491415\n",
        "Shawshank Redemption, The                 4.539075  4.560625\n",
        "Usual Suspects, The                       4.513317  4.518248\n",
        "Rear Window                               4.484536  4.472991\n",
        "Sixth Sense, The                          4.477410  4.379944\n",
        "Life Is Beautiful (La Vita \ufffd bella)       4.422343  4.286624\n",
        "Dr. Strangelove or: How I Learned to Sto  4.376623  4.464789\n",
        "North by Northwest                        4.364458  4.390641\n",
        "Wizard of Oz, The                         4.355030  4.203138\n",
        "Amadeus                                   4.346734  4.213415\n",
        "\n",
        "[10 rows x 2 columns]\n"
       ]
      }
     ],
     "prompt_number": 28
    },
    {
     "cell_type": "markdown",
     "metadata": {},
     "source": [
      "### Which movies do differ the most in gender ratings?"
     ]
    },
    {
     "cell_type": "code",
     "collapsed": false,
     "input": [
      "mean_ratings['diff'] = abs(mean_ratings['M'] - mean_ratings['F'])"
     ],
     "language": "python",
     "metadata": {},
     "outputs": [],
     "prompt_number": 29
    },
    {
     "cell_type": "code",
     "collapsed": false,
     "input": [
      "mean_ratings.sort('diff', ascending=False).head(10)"
     ],
     "language": "python",
     "metadata": {},
     "outputs": [
      {
       "html": [
        "<div style=\"max-height:1000px;max-width:1500px;overflow:auto;\">\n",
        "<table border=\"1\" class=\"dataframe\">\n",
        "  <thead>\n",
        "    <tr style=\"text-align: right;\">\n",
        "      <th>gender</th>\n",
        "      <th>F</th>\n",
        "      <th>M</th>\n",
        "      <th>diff</th>\n",
        "    </tr>\n",
        "    <tr>\n",
        "      <th>short_title</th>\n",
        "      <th></th>\n",
        "      <th></th>\n",
        "      <th></th>\n",
        "    </tr>\n",
        "  </thead>\n",
        "  <tbody>\n",
        "    <tr>\n",
        "      <th>Animal House</th>\n",
        "      <td> 3.628906</td>\n",
        "      <td> 4.167192</td>\n",
        "      <td> 0.538286</td>\n",
        "    </tr>\n",
        "    <tr>\n",
        "      <th>Rocky Horror Picture Show, The</th>\n",
        "      <td> 3.673016</td>\n",
        "      <td> 3.160131</td>\n",
        "      <td> 0.512885</td>\n",
        "    </tr>\n",
        "    <tr>\n",
        "      <th>Mary Poppins</th>\n",
        "      <td> 4.197740</td>\n",
        "      <td> 3.730594</td>\n",
        "      <td> 0.467147</td>\n",
        "    </tr>\n",
        "    <tr>\n",
        "      <th>Reservoir Dogs</th>\n",
        "      <td> 3.769231</td>\n",
        "      <td> 4.213873</td>\n",
        "      <td> 0.444642</td>\n",
        "    </tr>\n",
        "    <tr>\n",
        "      <th>Gone with the Wind</th>\n",
        "      <td> 4.269841</td>\n",
        "      <td> 3.829371</td>\n",
        "      <td> 0.440471</td>\n",
        "    </tr>\n",
        "    <tr>\n",
        "      <th>South Park: Bigger, Longer and Uncut</th>\n",
        "      <td> 3.422481</td>\n",
        "      <td> 3.846686</td>\n",
        "      <td> 0.424206</td>\n",
        "    </tr>\n",
        "    <tr>\n",
        "      <th>Airplane!</th>\n",
        "      <td> 3.656566</td>\n",
        "      <td> 4.064419</td>\n",
        "      <td> 0.407854</td>\n",
        "    </tr>\n",
        "    <tr>\n",
        "      <th>Predator</th>\n",
        "      <td> 3.299401</td>\n",
        "      <td> 3.706195</td>\n",
        "      <td> 0.406793</td>\n",
        "    </tr>\n",
        "    <tr>\n",
        "      <th>Godfather: Part II, The</th>\n",
        "      <td> 4.040936</td>\n",
        "      <td> 4.437778</td>\n",
        "      <td> 0.396842</td>\n",
        "    </tr>\n",
        "    <tr>\n",
        "      <th>Clockwork Orange, A</th>\n",
        "      <td> 3.757009</td>\n",
        "      <td> 4.145813</td>\n",
        "      <td> 0.388803</td>\n",
        "    </tr>\n",
        "  </tbody>\n",
        "</table>\n",
        "<p>10 rows \u00d7 3 columns</p>\n",
        "</div>"
       ],
       "metadata": {},
       "output_type": "pyout",
       "prompt_number": 30,
       "text": [
        "gender                                       F         M      diff\n",
        "short_title                                                       \n",
        "Animal House                          3.628906  4.167192  0.538286\n",
        "Rocky Horror Picture Show, The        3.673016  3.160131  0.512885\n",
        "Mary Poppins                          4.197740  3.730594  0.467147\n",
        "Reservoir Dogs                        3.769231  4.213873  0.444642\n",
        "Gone with the Wind                    4.269841  3.829371  0.440471\n",
        "South Park: Bigger, Longer and Uncut  3.422481  3.846686  0.424206\n",
        "Airplane!                             3.656566  4.064419  0.407854\n",
        "Predator                              3.299401  3.706195  0.406793\n",
        "Godfather: Part II, The               4.040936  4.437778  0.396842\n",
        "Clockwork Orange, A                   3.757009  4.145813  0.388803\n",
        "\n",
        "[10 rows x 3 columns]"
       ]
      }
     ],
     "prompt_number": 30
    },
    {
     "cell_type": "code",
     "collapsed": false,
     "input": [
      "mean_ratings.sort('diff', ascending=True).head(10)"
     ],
     "language": "python",
     "metadata": {},
     "outputs": [
      {
       "html": [
        "<div style=\"max-height:1000px;max-width:1500px;overflow:auto;\">\n",
        "<table border=\"1\" class=\"dataframe\">\n",
        "  <thead>\n",
        "    <tr style=\"text-align: right;\">\n",
        "      <th>gender</th>\n",
        "      <th>F</th>\n",
        "      <th>M</th>\n",
        "      <th>diff</th>\n",
        "    </tr>\n",
        "    <tr>\n",
        "      <th>short_title</th>\n",
        "      <th></th>\n",
        "      <th></th>\n",
        "      <th></th>\n",
        "    </tr>\n",
        "  </thead>\n",
        "  <tbody>\n",
        "    <tr>\n",
        "      <th>Jerry Maguire</th>\n",
        "      <td> 3.758315</td>\n",
        "      <td> 3.759424</td>\n",
        "      <td> 0.001109</td>\n",
        "    </tr>\n",
        "    <tr>\n",
        "      <th>Indiana Jones and the Temple of Doom</th>\n",
        "      <td> 3.674312</td>\n",
        "      <td> 3.676568</td>\n",
        "      <td> 0.002256</td>\n",
        "    </tr>\n",
        "    <tr>\n",
        "      <th>Good Will Hunting</th>\n",
        "      <td> 4.174672</td>\n",
        "      <td> 4.177064</td>\n",
        "      <td> 0.002392</td>\n",
        "    </tr>\n",
        "    <tr>\n",
        "      <th>Fugitive, The</th>\n",
        "      <td> 4.100457</td>\n",
        "      <td> 4.104046</td>\n",
        "      <td> 0.003590</td>\n",
        "    </tr>\n",
        "    <tr>\n",
        "      <th>Batman Returns</th>\n",
        "      <td> 2.980100</td>\n",
        "      <td> 2.975904</td>\n",
        "      <td> 0.004196</td>\n",
        "    </tr>\n",
        "    <tr>\n",
        "      <th>Usual Suspects, The</th>\n",
        "      <td> 4.513317</td>\n",
        "      <td> 4.518248</td>\n",
        "      <td> 0.004931</td>\n",
        "    </tr>\n",
        "    <tr>\n",
        "      <th>Green Mile, The</th>\n",
        "      <td> 4.159722</td>\n",
        "      <td> 4.153105</td>\n",
        "      <td> 0.006617</td>\n",
        "    </tr>\n",
        "    <tr>\n",
        "      <th>Boogie Nights</th>\n",
        "      <td> 3.763838</td>\n",
        "      <td> 3.771295</td>\n",
        "      <td> 0.007458</td>\n",
        "    </tr>\n",
        "    <tr>\n",
        "      <th>Chicken Run</th>\n",
        "      <td> 3.885559</td>\n",
        "      <td> 3.877339</td>\n",
        "      <td> 0.008220</td>\n",
        "    </tr>\n",
        "    <tr>\n",
        "      <th>Blair Witch Project, The</th>\n",
        "      <td> 3.038732</td>\n",
        "      <td> 3.029381</td>\n",
        "      <td> 0.009351</td>\n",
        "    </tr>\n",
        "  </tbody>\n",
        "</table>\n",
        "<p>10 rows \u00d7 3 columns</p>\n",
        "</div>"
       ],
       "metadata": {},
       "output_type": "pyout",
       "prompt_number": 31,
       "text": [
        "gender                                       F         M      diff\n",
        "short_title                                                       \n",
        "Jerry Maguire                         3.758315  3.759424  0.001109\n",
        "Indiana Jones and the Temple of Doom  3.674312  3.676568  0.002256\n",
        "Good Will Hunting                     4.174672  4.177064  0.002392\n",
        "Fugitive, The                         4.100457  4.104046  0.003590\n",
        "Batman Returns                        2.980100  2.975904  0.004196\n",
        "Usual Suspects, The                   4.513317  4.518248  0.004931\n",
        "Green Mile, The                       4.159722  4.153105  0.006617\n",
        "Boogie Nights                         3.763838  3.771295  0.007458\n",
        "Chicken Run                           3.885559  3.877339  0.008220\n",
        "Blair Witch Project, The              3.038732  3.029381  0.009351\n",
        "\n",
        "[10 rows x 3 columns]"
       ]
      }
     ],
     "prompt_number": 31
    },
    {
     "cell_type": "markdown",
     "metadata": {},
     "source": [
      "### Date-night pick?\n",
      "\n",
      "What's the highest rated movies where the difference is *minimal*?\n",
      "\n",
      "Let's pick out *minimal*."
     ]
    },
    {
     "cell_type": "code",
     "collapsed": false,
     "input": [
      "%matplotlib inline\n",
      "import matplotlib.pyplot as plt\n",
      "mean_ratings['diff'].hist(alpha=0.5)\n",
      "plt.show()"
     ],
     "language": "python",
     "metadata": {},
     "outputs": [
      {
       "metadata": {},
       "output_type": "display_data",
       "png": "[encoded data removed]",
       "text": [
        "<matplotlib.figure.Figure at 0x1165d7e10>"
       ]
      }
     ],
     "prompt_number": 35
    },
    {
     "cell_type": "code",
     "collapsed": false,
     "input": [
      "mean_ratings.hist(alpha=0.5) #blue\n",
      "#mean_ratings['M'].hist(alpha=0.5)\n",
      "show()"
     ],
     "language": "python",
     "metadata": {},
     "outputs": [
      {
       "ename": "NameError",
       "evalue": "name 'show' is not defined",
       "output_type": "pyerr",
       "traceback": [
        "\u001b[0;31m---------------------------------------------------------------------------\u001b[0m\n\u001b[0;31mNameError\u001b[0m                                 Traceback (most recent call last)",
        "\u001b[0;32m<ipython-input-36-f706cef987bd>\u001b[0m in \u001b[0;36m<module>\u001b[0;34m()\u001b[0m\n\u001b[1;32m      1\u001b[0m \u001b[0mmean_ratings\u001b[0m\u001b[0;34m.\u001b[0m\u001b[0mhist\u001b[0m\u001b[0;34m(\u001b[0m\u001b[0malpha\u001b[0m\u001b[0;34m=\u001b[0m\u001b[0;36m0.5\u001b[0m\u001b[0;34m)\u001b[0m \u001b[0;31m#blue\u001b[0m\u001b[0;34m\u001b[0m\u001b[0m\n\u001b[1;32m      2\u001b[0m \u001b[0;31m#mean_ratings['M'].hist(alpha=0.5)\u001b[0m\u001b[0;34m\u001b[0m\u001b[0;34m\u001b[0m\u001b[0m\n\u001b[0;32m----> 3\u001b[0;31m \u001b[0mshow\u001b[0m\u001b[0;34m(\u001b[0m\u001b[0;34m)\u001b[0m\u001b[0;34m\u001b[0m\u001b[0m\n\u001b[0m",
        "\u001b[0;31mNameError\u001b[0m: name 'show' is not defined"
       ]
      },
      {
       "metadata": {},
       "output_type": "display_data",
       "png": "[encoded data removed]",
       "text": [
        "<matplotlib.figure.Figure at 0x1165d7e10>"
       ]
      }
     ],
     "prompt_number": 36
    },
    {
     "cell_type": "markdown",
     "metadata": {},
     "source": [
      "How about `diff < 0.05` and `rating > 4.25`?"
     ]
    },
    {
     "cell_type": "code",
     "collapsed": false,
     "input": [
      "diff_mask = mean_ratings['diff'] < 0.05 \n",
      "m_mask = mean_ratings['M'] > 4.25\n",
      "f_mask = mean_ratings['F'] > 4.25"
     ],
     "language": "python",
     "metadata": {},
     "outputs": [],
     "prompt_number": 37
    },
    {
     "cell_type": "code",
     "collapsed": false,
     "input": [
      "mask = diff_mask & m_mask & f_mask"
     ],
     "language": "python",
     "metadata": {},
     "outputs": [],
     "prompt_number": 38
    },
    {
     "cell_type": "code",
     "collapsed": false,
     "input": [
      "tmp = mean_ratings[mask]"
     ],
     "language": "python",
     "metadata": {},
     "outputs": [],
     "prompt_number": 39
    },
    {
     "cell_type": "code",
     "collapsed": false,
     "input": [
      "print tmp"
     ],
     "language": "python",
     "metadata": {},
     "outputs": [
      {
       "output_type": "stream",
       "stream": "stdout",
       "text": [
        "gender                            F         M      diff\n",
        "short_title                                            \n",
        "North by Northwest         4.364458  4.390641  0.026183\n",
        "Rear Window                4.484536  4.472991  0.011545\n",
        "Shawshank Redemption, The  4.539075  4.560625  0.021550\n",
        "Usual Suspects, The        4.513317  4.518248  0.004931\n",
        "\n",
        "[4 rows x 3 columns]\n"
       ]
      }
     ],
     "prompt_number": 40
    },
    {
     "cell_type": "code",
     "collapsed": false,
     "input": [
      "tmp['mean'] = tmp['M'] + tmp['F']"
     ],
     "language": "python",
     "metadata": {},
     "outputs": [],
     "prompt_number": 41
    },
    {
     "cell_type": "code",
     "collapsed": false,
     "input": [
      "print tmp.sort('mean', ascending=True)"
     ],
     "language": "python",
     "metadata": {},
     "outputs": [
      {
       "output_type": "stream",
       "stream": "stdout",
       "text": [
        "gender                            F         M      diff      mean\n",
        "short_title                                                      \n",
        "North by Northwest         4.364458  4.390641  0.026183  8.755099\n",
        "Rear Window                4.484536  4.472991  0.011545  8.957527\n",
        "Usual Suspects, The        4.513317  4.518248  0.004931  9.031565\n",
        "Shawshank Redemption, The  4.539075  4.560625  0.021550  9.099700\n",
        "\n",
        "[4 rows x 4 columns]\n"
       ]
      }
     ],
     "prompt_number": 42
    },
    {
     "cell_type": "code",
     "collapsed": false,
     "input": [],
     "language": "python",
     "metadata": {},
     "outputs": []
    }
   ],
   "metadata": {}
  }
 ]
}