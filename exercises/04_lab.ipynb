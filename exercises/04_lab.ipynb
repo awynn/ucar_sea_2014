{
 "metadata": {
  "name": "",
  "signature": "sha256:191806bad7eef5c19bcd3e179ca0307e8d8ab572bbd8a11a410c7c3b46726e4d"
 },
 "nbformat": 3,
 "nbformat_minor": 0,
 "worksheets": [
  {
   "cells": [
    {
     "cell_type": "heading",
     "level": 1,
     "metadata": {},
     "source": [
      "Exercise"
     ]
    },
    {
     "cell_type": "heading",
     "level": 2,
     "metadata": {},
     "source": [
      "Titanic: Machine Learning from Disaster"
     ]
    },
    {
     "cell_type": "markdown",
     "metadata": {},
     "source": [
      "<img src='https://kaggle2.blob.core.windows.net/competitions/kaggle/3136/logos/front_page.png'>\n",
      "\n",
      "From [Kaggle](https://www.kaggle.com/c/titanic-gettingStarted)\n"
     ]
    },
    {
     "cell_type": "markdown",
     "metadata": {},
     "source": [
      "In the previous lab you learned that gender was a good predictor of survival.  Use `sklearn` to formally evaluate this model, which is sometimes called the \"gender model\"."
     ]
    },
    {
     "cell_type": "code",
     "collapsed": false,
     "input": [
      "import pandas as pd\n",
      "import numpy as np\n",
      "\n",
      "from sklearn.cross_validation import StratifiedKFold\n",
      "from sklearn.metrics import accuracy_score\n",
      "from sklearn import preprocessing"
     ],
     "language": "python",
     "metadata": {},
     "outputs": [],
     "prompt_number": 1
    },
    {
     "cell_type": "code",
     "collapsed": false,
     "input": [
      "df = pd.read_csv('data/titanic_train.csv')"
     ],
     "language": "python",
     "metadata": {},
     "outputs": [],
     "prompt_number": 2
    },
    {
     "cell_type": "markdown",
     "metadata": {},
     "source": [
      "Here is a little help."
     ]
    },
    {
     "cell_type": "code",
     "collapsed": false,
     "input": [
      "tmp =  df[['Survived', 'Sex']].as_matrix()\n",
      "y = tmp[:,0]\n",
      "X = tmp[:,1]"
     ],
     "language": "python",
     "metadata": {},
     "outputs": [],
     "prompt_number": 3
    },
    {
     "cell_type": "code",
     "collapsed": false,
     "input": [
      "print X[:, np.newaxis].shape\n",
      "print y.shape"
     ],
     "language": "python",
     "metadata": {},
     "outputs": [
      {
       "output_type": "stream",
       "stream": "stdout",
       "text": [
        "(891, 1)\n",
        "(891,)\n"
       ]
      }
     ],
     "prompt_number": 4
    },
    {
     "cell_type": "code",
     "collapsed": false,
     "input": [
      "print X[:10]"
     ],
     "language": "python",
     "metadata": {},
     "outputs": [
      {
       "output_type": "stream",
       "stream": "stdout",
       "text": [
        "['male' 'female' 'female' 'female' 'male' 'male' 'male' 'male' 'female'\n",
        " 'female']\n"
       ]
      }
     ],
     "prompt_number": 5
    },
    {
     "cell_type": "code",
     "collapsed": false,
     "input": [
      "le = preprocessing.LabelEncoder()\n",
      "X = le.fit(X).transform(X)\n",
      "print X[:10]"
     ],
     "language": "python",
     "metadata": {},
     "outputs": [
      {
       "output_type": "stream",
       "stream": "stdout",
       "text": [
        "[1 0 0 0 1 1 1 1 0 0]\n"
       ]
      }
     ],
     "prompt_number": 6
    },
    {
     "cell_type": "heading",
     "level": 2,
     "metadata": {},
     "source": [
      "The Gender Model Accuracy"
     ]
    },
    {
     "cell_type": "markdown",
     "metadata": {},
     "source": [
      "Split the data into training and test.\n",
      "\n",
      "Compute the average of the train and test over each fold.\n",
      "\n",
      "Hint:\n",
      "\n",
      "    skf = StratifiedKFold(y, 5)\n",
      "    for train, test in skf:\n",
      "        pass"
     ]
    },
    {
     "cell_type": "code",
     "collapsed": false,
     "input": [],
     "language": "python",
     "metadata": {},
     "outputs": [],
     "prompt_number": 0
    },
    {
     "cell_type": "markdown",
     "metadata": {},
     "source": [
      "What do these results suggest about the bias-variance trade-off?\n",
      "\n",
      "How could you improve on this?"
     ]
    },
    {
     "cell_type": "code",
     "collapsed": false,
     "input": [],
     "language": "python",
     "metadata": {},
     "outputs": []
    }
   ],
   "metadata": {}
  }
 ]
}