{
 "metadata": {
  "name": "",
  "signature": "sha256:4cd8dd3bf57d6dcfa873b2e3cccf792cc0990cf5cc9b0e2469ba50c9b7c6d6ed"
 },
 "nbformat": 3,
 "nbformat_minor": 0,
 "worksheets": [
  {
   "cells": [
    {
     "cell_type": "heading",
     "level": 1,
     "metadata": {},
     "source": [
      "Exercise 2: Style"
     ]
    },
    {
     "cell_type": "heading",
     "level": 2,
     "metadata": {},
     "source": [
      "Matplotlib"
     ]
    },
    {
     "cell_type": "markdown",
     "metadata": {},
     "source": [
      "The default styles for `matplotlib` are stored in the following file."
     ]
    },
    {
     "cell_type": "code",
     "collapsed": false,
     "input": [
      "import os\n",
      "\n",
      "mplrc = os.path.join(os.environ['HOME'],'.matplotlib/matplotlibrc')\n",
      "print mplrc"
     ],
     "language": "python",
     "metadata": {},
     "outputs": [
      {
       "output_type": "stream",
       "stream": "stdout",
       "text": [
        "/Users/mlunacek/.matplotlib/matplotlibrc\n"
       ]
      }
     ],
     "prompt_number": 6
    },
    {
     "cell_type": "markdown",
     "metadata": {},
     "source": [
      "Append parameters to this file to make your plots look beautiful!\n",
      "\n",
      "You may find [this](http://matplotlib.org/1.3.1/users/customizing.html) helpful."
     ]
    },
    {
     "cell_type": "markdown",
     "metadata": {},
     "source": [
      "**Question**: What are the limitations of matplotlibs customization?"
     ]
    },
    {
     "cell_type": "heading",
     "level": 2,
     "metadata": {},
     "source": [
      "Notebook"
     ]
    },
    {
     "cell_type": "markdown",
     "metadata": {},
     "source": [
      "The default `css` for your notebooks are stored in the following file."
     ]
    },
    {
     "cell_type": "code",
     "collapsed": false,
     "input": [
      "css = os.path.join(os.environ['HOME'],'.ipython/profile_default/static/custom/custom.css')\n",
      "print css"
     ],
     "language": "python",
     "metadata": {},
     "outputs": [
      {
       "output_type": "stream",
       "stream": "stdout",
       "text": [
        "/Users/mlunacek/.ipython/profile_default/static/custom/custom.css\n"
       ]
      }
     ],
     "prompt_number": 7
    },
    {
     "cell_type": "markdown",
     "metadata": {},
     "source": [
      "Here are the current contents."
     ]
    },
    {
     "cell_type": "code",
     "collapsed": false,
     "input": [
      "with open(css, 'r') as infile:\n",
      "    print infile.read()[:200]"
     ],
     "language": "python",
     "metadata": {},
     "outputs": [
      {
       "output_type": "stream",
       "stream": "stdout",
       "text": [
        "/*This file contains any manual css for this page that needs to override the global styles.\n",
        "This is only required when different pages style the same element differently. This is just\n",
        "a hack to deal w\n"
       ]
      }
     ],
     "prompt_number": 10
    },
    {
     "cell_type": "markdown",
     "metadata": {},
     "source": [
      "Make your notebook beautiful!\n",
      "\n",
      "Here's a blog post that will help you: [Better typography for the IPython Notebook](http://slendrmeans.wordpress.com/2012/12/05/better-typography-for-ipython-notebooks/)."
     ]
    },
    {
     "cell_type": "code",
     "collapsed": false,
     "input": [],
     "language": "python",
     "metadata": {},
     "outputs": []
    }
   ],
   "metadata": {}
  }
 ]
}