{
 "metadata": {
  "name": "",
  "signature": "sha256:42a8e7b1c1928dfa72fb371fea60b05473bb24dd7a4bcce736f1872c03410ddf"
 },
 "nbformat": 3,
 "nbformat_minor": 0,
 "worksheets": [
  {
   "cells": [
    {
     "cell_type": "heading",
     "level": 1,
     "metadata": {},
     "source": [
      "Introduction to Numpy"
     ]
    },
    {
     "cell_type": "markdown",
     "metadata": {
      "slideshow": {
       "slide_type": "slide"
      }
     },
     "source": [
      "<p>\n",
      "Monte Lunacek\n",
      "</p>"
     ]
    },
    {
     "cell_type": "markdown",
     "metadata": {
      "slideshow": {
       "slide_type": "slide"
      }
     },
     "source": [
      "## What is `numpy`?\n",
      "\n",
      "Provides `C`-compiled array-oriented computing in `Python`.\n",
      "\n",
      "- **Efficient**\n",
      "- **Foundational**\n",
      "- Typed,in-memory\n",
      "- Contigous and homeogenous\n",
      "\n",
      "Usage\n",
      "\n",
      "- Scientific data (weather data, satellite data)\n",
      "- Image processing\n",
      "- Time series\n",
      "- Linear algebra\n"
     ]
    },
    {
     "cell_type": "markdown",
     "metadata": {
      "slideshow": {
       "slide_type": "slide"
      }
     },
     "source": [
      "## Efficient computing\n",
      "\n",
      "The `triad` memory bandwidth [stream test](http://www.cs.virginia.edu/stream/ref.html)."
     ]
    },
    {
     "cell_type": "code",
     "collapsed": false,
     "input": [
      "import random\n",
      "\n",
      "N = 100000\n",
      "A = [0 for i in xrange(N)]\n",
      "B = [1000.* random.random() for i in xrange(N)]\n",
      "C = [1000.* random.random() for i in xrange(N)]\n",
      "d = 0.1"
     ],
     "language": "python",
     "metadata": {},
     "outputs": [],
     "prompt_number": 1
    },
    {
     "cell_type": "code",
     "collapsed": false,
     "input": [
      "%%timeit\n",
      "for i in xrange(N):\n",
      "    A[i] = B[i] + d * C[i]"
     ],
     "language": "python",
     "metadata": {},
     "outputs": [
      {
       "output_type": "stream",
       "stream": "stdout",
       "text": [
        "10 loops, best of 3: 34.6 ms per loop\n"
       ]
      }
     ],
     "prompt_number": 2
    },
    {
     "cell_type": "markdown",
     "metadata": {
      "slideshow": {
       "slide_type": "slide"
      }
     },
     "source": [
      "## The `numpy` solution"
     ]
    },
    {
     "cell_type": "code",
     "collapsed": false,
     "input": [
      "import numpy as np\n",
      "\n",
      "a = np.array(A)\n",
      "b = np.array(B)\n",
      "c = np.array(C)"
     ],
     "language": "python",
     "metadata": {},
     "outputs": [],
     "prompt_number": 3
    },
    {
     "cell_type": "markdown",
     "metadata": {},
     "source": [
      "Using `numpy` matrix syntax."
     ]
    },
    {
     "cell_type": "code",
     "collapsed": false,
     "input": [
      "%%timeit\n",
      "a = b + d*c"
     ],
     "language": "python",
     "metadata": {},
     "outputs": [
      {
       "output_type": "stream",
       "stream": "stdout",
       "text": [
        "1000 loops, best of 3: 270 \u00b5s per loop\n"
       ]
      }
     ],
     "prompt_number": 4
    },
    {
     "cell_type": "markdown",
     "metadata": {},
     "source": [
      "It's about **100x** times faster (~30 milisecond vs ~ 30 microsecond)"
     ]
    },
    {
     "cell_type": "markdown",
     "metadata": {
      "slideshow": {
       "slide_type": "slide"
      }
     },
     "source": [
      "## Why is `numpy` faster?\n",
      "\n",
      "`numpy` \n",
      "\n",
      "- provides a **typed** data structure (`ndarray`)\n",
      "- a set of **compiled functions** (`ufuncs`)\n",
      "\n",
      "`python`\n",
      "\n",
      "- Lists: heterogeneous, **dynamically** typed\n",
      "- `for` loops are **interpreted**"
     ]
    },
    {
     "cell_type": "markdown",
     "metadata": {
      "slideshow": {
       "slide_type": "slide"
      }
     },
     "source": [
      "## Intel `MKL` `BLAS` library\n",
      "\n",
      "<img src=\"files/img/matrix_multiply_compare.png\" style=\"height:500px;\">\t"
     ]
    },
    {
     "cell_type": "markdown",
     "metadata": {
      "slideshow": {
       "slide_type": "slide"
      }
     },
     "source": [
      "##Foundational stack\n",
      "<img src=\"files/img/foundation.png\" style=\"height:500px;\">\t"
     ]
    },
    {
     "cell_type": "markdown",
     "metadata": {
      "slideshow": {
       "slide_type": "slide"
      }
     },
     "source": [
      "## Outline\n",
      "\n",
      "Understand the **`ndarray`** data structure\n",
      "\n",
      "Discuss **ufuncs**\n",
      "\n",
      "- Array-oriented computing\n",
      "- Avoid for loops\n",
      "- Use fast algorithms\n",
      "   \n",
      "Quick note on **slicing** and `numpy` views.\n",
      "\n",
      "**Broadcasting**"
     ]
    },
    {
     "cell_type": "markdown",
     "metadata": {
      "slideshow": {
       "slide_type": "slide"
      }
     },
     "source": [
      "## The `ndarray` object\n",
      "\n",
      "Arrays can be created from\n",
      "\n",
      "* lists or tuples\n",
      "* using functions \n",
      "* reading data from files"
     ]
    },
    {
     "cell_type": "code",
     "collapsed": false,
     "input": [
      "vector = np.array([1, 2, 3, 4, 5, 6, 7, 8, 9 ])\n",
      "print vector\n",
      "print type(vector)"
     ],
     "language": "python",
     "metadata": {},
     "outputs": [
      {
       "output_type": "stream",
       "stream": "stdout",
       "text": [
        "[1 2 3 4 5 6 7 8 9]\n",
        "<type 'numpy.ndarray'>\n"
       ]
      }
     ],
     "prompt_number": 5
    },
    {
     "cell_type": "code",
     "collapsed": false,
     "input": [
      "M = np.array([ [1, 2, 3],[4, 5, 6], [7,8,9]], dtype=np.int32)\n",
      "print M\n",
      "print type(M)"
     ],
     "language": "python",
     "metadata": {},
     "outputs": [
      {
       "output_type": "stream",
       "stream": "stdout",
       "text": [
        "[[1 2 3]\n",
        " [4 5 6]\n",
        " [7 8 9]]\n",
        "<type 'numpy.ndarray'>\n"
       ]
      }
     ],
     "prompt_number": 6
    },
    {
     "cell_type": "markdown",
     "metadata": {
      "slideshow": {
       "slide_type": "slide"
      }
     },
     "source": [
      "### Properties\n",
      "\n",
      "<img src=\"files/img/array1d.png\" style=\"height:175px;\">"
     ]
    },
    {
     "cell_type": "code",
     "collapsed": false,
     "input": [
      "print vector.shape\n",
      "print vector.size\n",
      "print vector.dtype"
     ],
     "language": "python",
     "metadata": {},
     "outputs": [
      {
       "output_type": "stream",
       "stream": "stdout",
       "text": [
        "(9,)\n",
        "9\n",
        "int64\n"
       ]
      }
     ],
     "prompt_number": 7
    },
    {
     "cell_type": "code",
     "collapsed": false,
     "input": [
      "print vector.strides\n",
      "print vector.ctypes.data"
     ],
     "language": "python",
     "metadata": {},
     "outputs": [
      {
       "output_type": "stream",
       "stream": "stdout",
       "text": [
        "(8,)\n",
        "64792416\n"
       ]
      }
     ],
     "prompt_number": 8
    },
    {
     "cell_type": "markdown",
     "metadata": {
      "slideshow": {
       "slide_type": "slide"
      }
     },
     "source": [
      "### Properties\n",
      "\n",
      "<img src=\"files/img/array2d.png\" style=\"height:400px;\">"
     ]
    },
    {
     "cell_type": "code",
     "collapsed": false,
     "input": [
      "print M.shape, M.size, M.dtype"
     ],
     "language": "python",
     "metadata": {},
     "outputs": [
      {
       "output_type": "stream",
       "stream": "stdout",
       "text": [
        "(3, 3) 9 int32\n"
       ]
      }
     ],
     "prompt_number": 9
    },
    {
     "cell_type": "code",
     "collapsed": false,
     "input": [
      "print M.strides, M.ctypes.data"
     ],
     "language": "python",
     "metadata": {},
     "outputs": [
      {
       "output_type": "stream",
       "stream": "stdout",
       "text": [
        "(12, 4) 63343008\n"
       ]
      }
     ],
     "prompt_number": 10
    },
    {
     "cell_type": "markdown",
     "metadata": {
      "slideshow": {
       "slide_type": "slide"
      }
     },
     "source": [
      "### Understanding layout and strides"
     ]
    },
    {
     "cell_type": "code",
     "collapsed": false,
     "input": [
      "A = M.T\n",
      "print M.shape, M.size, M.dtype\n",
      "print A.shape, A.size, A.dtype"
     ],
     "language": "python",
     "metadata": {},
     "outputs": [
      {
       "output_type": "stream",
       "stream": "stdout",
       "text": [
        "(3, 3) 9 int32\n",
        "(3, 3) 9 int32\n"
       ]
      }
     ],
     "prompt_number": 11
    },
    {
     "cell_type": "code",
     "collapsed": false,
     "input": [
      "print M.strides, M.flags.c_contiguous, M.flags.f_contiguous\n",
      "print A.strides, A.flags.c_contiguous, A.flags.f_contiguous"
     ],
     "language": "python",
     "metadata": {},
     "outputs": [
      {
       "output_type": "stream",
       "stream": "stdout",
       "text": [
        "(12, 4) True False\n",
        "(4, 12) False True\n"
       ]
      }
     ],
     "prompt_number": 12
    },
    {
     "cell_type": "markdown",
     "metadata": {},
     "source": [
      "<img src=\"files/img/trans.png\" style=\"height:250px;\">"
     ]
    },
    {
     "cell_type": "markdown",
     "metadata": {
      "slideshow": {
       "slide_type": "slide"
      }
     },
     "source": [
      "### Views"
     ]
    },
    {
     "cell_type": "code",
     "collapsed": false,
     "input": [
      "print M.ctypes.data, M.flags.owndata\n",
      "print A.ctypes.data, A.flags.owndata"
     ],
     "language": "python",
     "metadata": {
      "slideshow": {
       "slide_type": "-"
      }
     },
     "outputs": [
      {
       "output_type": "stream",
       "stream": "stdout",
       "text": [
        "63343008 True\n",
        "63343008 False\n"
       ]
      }
     ],
     "prompt_number": 13
    },
    {
     "cell_type": "code",
     "collapsed": false,
     "input": [
      "B = A.reshape((A.size,))\n",
      "print B.flags.owndata\n",
      "print B"
     ],
     "language": "python",
     "metadata": {},
     "outputs": [
      {
       "output_type": "stream",
       "stream": "stdout",
       "text": [
        "False\n",
        "[1 4 7 2 5 8 3 6 9]\n"
       ]
      }
     ],
     "prompt_number": 14
    },
    {
     "cell_type": "code",
     "collapsed": false,
     "input": [
      "print B.shape, B.strides"
     ],
     "language": "python",
     "metadata": {},
     "outputs": [
      {
       "output_type": "stream",
       "stream": "stdout",
       "text": [
        "(9,) (4,)\n"
       ]
      }
     ],
     "prompt_number": 15
    },
    {
     "cell_type": "markdown",
     "metadata": {
      "slideshow": {
       "slide_type": "slide"
      }
     },
     "source": [
      "### Using array-generating functions\n",
      " \n",
      "For larger arrays it is inpractical to initialize the data manually"
     ]
    },
    {
     "cell_type": "code",
     "collapsed": false,
     "input": [
      "print np.arange(1, 6, 0.55)"
     ],
     "language": "python",
     "metadata": {},
     "outputs": [
      {
       "output_type": "stream",
       "stream": "stdout",
       "text": [
        "[ 1.    1.55  2.1   2.65  3.2   3.75  4.3   4.85  5.4   5.95]\n"
       ]
      }
     ],
     "prompt_number": 16
    },
    {
     "cell_type": "code",
     "collapsed": false,
     "input": [
      "print np.linspace(0, 10, 5)"
     ],
     "language": "python",
     "metadata": {},
     "outputs": [
      {
       "output_type": "stream",
       "stream": "stdout",
       "text": [
        "[  0.    2.5   5.    7.5  10. ]\n"
       ]
      }
     ],
     "prompt_number": 17
    },
    {
     "cell_type": "code",
     "collapsed": false,
     "input": [
      "print np.zeros(4)\n",
      "print np.ones((4,3))"
     ],
     "language": "python",
     "metadata": {},
     "outputs": [
      {
       "output_type": "stream",
       "stream": "stdout",
       "text": [
        "[ 0.  0.  0.  0.]\n",
        "[[ 1.  1.  1.]\n",
        " [ 1.  1.  1.]\n",
        " [ 1.  1.  1.]\n",
        " [ 1.  1.  1.]]\n"
       ]
      }
     ],
     "prompt_number": 18
    },
    {
     "cell_type": "code",
     "collapsed": false,
     "input": [
      "print np.diag([1, 2, 3])"
     ],
     "language": "python",
     "metadata": {},
     "outputs": [
      {
       "output_type": "stream",
       "stream": "stdout",
       "text": [
        "[[1 0 0]\n",
        " [0 2 0]\n",
        " [0 0 3]]\n"
       ]
      }
     ],
     "prompt_number": 19
    },
    {
     "cell_type": "code",
     "collapsed": false,
     "input": [
      "%matplotlib inline\n",
      "import matplotlib.pyplot as plt\n",
      "\n",
      "plt.show(plt.hist(np.random.rand(1000)))"
     ],
     "language": "python",
     "metadata": {
      "slideshow": {
       "slide_type": "slide"
      }
     },
     "outputs": [
      {
       "metadata": {},
       "output_type": "display_data",
       "png": "[encoded data removed]",
       "text": [
        "<matplotlib.figure.Figure at 0x412ec50>"
       ]
      }
     ],
     "prompt_number": 20
    },
    {
     "cell_type": "code",
     "collapsed": false,
     "input": [
      "plt.show(plt.hist(np.random.normal(0,1,1000)))"
     ],
     "language": "python",
     "metadata": {
      "slideshow": {
       "slide_type": "slide"
      }
     },
     "outputs": [
      {
       "metadata": {},
       "output_type": "display_data",
       "png": "[encoded data removed]",
       "text": [
        "<matplotlib.figure.Figure at 0x4325990>"
       ]
      }
     ],
     "prompt_number": 21
    },
    {
     "cell_type": "markdown",
     "metadata": {
      "slideshow": {
       "slide_type": "slide"
      }
     },
     "source": [
      "## Using `ufuncs`\n",
      "\n",
      "- Operate on the elements of one or more `ndarray`\n",
      "- Call optimized c loops based on the `dtype`"
     ]
    },
    {
     "cell_type": "markdown",
     "metadata": {
      "slideshow": {
       "slide_type": "slide"
      }
     },
     "source": [
      "###Unary functions\n",
      "\n",
      "Several built-in functions that takes one argument:\n",
      "\n",
      "        abs, fabs, sqrt, exp, square, log, ceil, floor\n",
      "For example"
     ]
    },
    {
     "cell_type": "code",
     "collapsed": false,
     "input": [
      "x = np.arange(-5.,5.)\n",
      "print np.square(x)"
     ],
     "language": "python",
     "metadata": {},
     "outputs": [
      {
       "output_type": "stream",
       "stream": "stdout",
       "text": [
        "[ 25.  16.   9.   4.   1.   0.   1.   4.   9.  16.]\n"
       ]
      }
     ],
     "prompt_number": 22
    },
    {
     "cell_type": "code",
     "collapsed": false,
     "input": [
      "print np.abs(x)"
     ],
     "language": "python",
     "metadata": {},
     "outputs": [
      {
       "output_type": "stream",
       "stream": "stdout",
       "text": [
        "[ 5.  4.  3.  2.  1.  0.  1.  2.  3.  4.]\n"
       ]
      }
     ],
     "prompt_number": 23
    },
    {
     "cell_type": "markdown",
     "metadata": {
      "slideshow": {
       "slide_type": "slide"
      }
     },
     "source": [
      "### Binary functions\n",
      "    \n",
      "        add, subtract, multiply, divide, power, maximum, minimum, greater, less"
     ]
    },
    {
     "cell_type": "markdown",
     "metadata": {},
     "source": [
      "For example"
     ]
    },
    {
     "cell_type": "code",
     "collapsed": false,
     "input": [
      "y = np.square(x)\n",
      "z = np.add(x,y)\n",
      "print z\n",
      "print x + y"
     ],
     "language": "python",
     "metadata": {},
     "outputs": [
      {
       "output_type": "stream",
       "stream": "stdout",
       "text": [
        "[ 20.  12.   6.   2.   0.   0.   2.   6.  12.  20.]\n",
        "[ 20.  12.   6.   2.   0.   0.   2.   6.  12.  20.]\n"
       ]
      }
     ],
     "prompt_number": 24
    },
    {
     "cell_type": "markdown",
     "metadata": {
      "slideshow": {
       "slide_type": "slide"
      }
     },
     "source": [
      "### Aggregates\n",
      "\n",
      "        sum, mean, std, var, min, max, argmin, argmax, cumsum, cumprod"
     ]
    },
    {
     "cell_type": "markdown",
     "metadata": {},
     "source": [
      "Examples"
     ]
    },
    {
     "cell_type": "code",
     "collapsed": false,
     "input": [
      "print z.sum(), np.sum(z)"
     ],
     "language": "python",
     "metadata": {},
     "outputs": [
      {
       "output_type": "stream",
       "stream": "stdout",
       "text": [
        "80.0 80.0\n"
       ]
      }
     ],
     "prompt_number": 25
    },
    {
     "cell_type": "code",
     "collapsed": false,
     "input": [
      "x = np.random.rand(8).reshape((2,4))\n",
      "print x.shape"
     ],
     "language": "python",
     "metadata": {},
     "outputs": [
      {
       "output_type": "stream",
       "stream": "stdout",
       "text": [
        "(2, 4)\n"
       ]
      }
     ],
     "prompt_number": 26
    },
    {
     "cell_type": "code",
     "collapsed": false,
     "input": [
      "x.sum(axis=0) # sum the columns"
     ],
     "language": "python",
     "metadata": {},
     "outputs": [
      {
       "metadata": {},
       "output_type": "pyout",
       "prompt_number": 27,
       "text": [
        "array([ 0.9365839 ,  1.61373389,  1.30096846,  0.24923567])"
       ]
      }
     ],
     "prompt_number": 27
    },
    {
     "cell_type": "code",
     "collapsed": false,
     "input": [
      "x.sum(1) # sum the rows"
     ],
     "language": "python",
     "metadata": {},
     "outputs": [
      {
       "metadata": {},
       "output_type": "pyout",
       "prompt_number": 28,
       "text": [
        "array([ 2.48967844,  1.61084348])"
       ]
      }
     ],
     "prompt_number": 28
    },
    {
     "cell_type": "markdown",
     "metadata": {
      "slideshow": {
       "slide_type": "slide"
      }
     },
     "source": [
      "### The `accumulate` methods"
     ]
    },
    {
     "cell_type": "code",
     "collapsed": false,
     "input": [
      "np.add.accumulate(x)"
     ],
     "language": "python",
     "metadata": {},
     "outputs": [
      {
       "metadata": {},
       "output_type": "pyout",
       "prompt_number": 32,
       "text": [
        "array([  4.33919691e-01,   6.38673698e-01,   1.01173198e+00, ...,\n",
        "         5.02039598e+03,   5.02055544e+03,   5.02153340e+03])"
       ]
      }
     ],
     "prompt_number": 32
    },
    {
     "cell_type": "code",
     "collapsed": false,
     "input": [
      "np.cumsum(x)"
     ],
     "language": "python",
     "metadata": {},
     "outputs": [
      {
       "metadata": {},
       "output_type": "pyout",
       "prompt_number": 33,
       "text": [
        "array([  4.33919691e-01,   6.38673698e-01,   1.01173198e+00, ...,\n",
        "         5.02039598e+03,   5.02055544e+03,   5.02153340e+03])"
       ]
      }
     ],
     "prompt_number": 33
    },
    {
     "cell_type": "code",
     "collapsed": false,
     "input": [
      "np.*.accumulate?"
     ],
     "language": "python",
     "metadata": {},
     "outputs": [],
     "prompt_number": 34
    },
    {
     "cell_type": "markdown",
     "metadata": {
      "slideshow": {
       "slide_type": "slide"
      }
     },
     "source": [
      "### Linear algebra\n",
      "    \n",
      "        dot, inv, diag, trace, eig, det, qr, svd, solve\n",
      "        \n",
      "Example matrix multiply"
     ]
    },
    {
     "cell_type": "code",
     "collapsed": false,
     "input": [
      "x = np.random.rand(8).reshape((2,4))\n",
      "b = np.dot(x,x.T)\n",
      "print b"
     ],
     "language": "python",
     "metadata": {},
     "outputs": [
      {
       "output_type": "stream",
       "stream": "stdout",
       "text": [
        "[[ 0.28118576  0.66189804]\n",
        " [ 0.66189804  1.57615403]]\n"
       ]
      }
     ],
     "prompt_number": 35
    },
    {
     "cell_type": "markdown",
     "metadata": {
      "slideshow": {
       "slide_type": "slide"
      }
     },
     "source": [
      "##Indexing and slicing\n",
      "\n",
      "- Index slicing is the technical name for the syntax \n",
      "\n",
      "        container[lower:upper:step]\n",
      "    \n",
      "    to extract part of an array.\n",
      "\n",
      "- We can omit any of the three parameters\n",
      "\n",
      "        lower:upper:step"
     ]
    },
    {
     "cell_type": "markdown",
     "metadata": {
      "slideshow": {
       "slide_type": "slide"
      }
     },
     "source": [
      "###Examples"
     ]
    },
    {
     "cell_type": "code",
     "collapsed": false,
     "input": [
      "x = np.arange(1, 20, 1)\n",
      "print x"
     ],
     "language": "python",
     "metadata": {},
     "outputs": [
      {
       "output_type": "stream",
       "stream": "stdout",
       "text": [
        "[ 1  2  3  4  5  6  7  8  9 10 11 12 13 14 15 16 17 18 19]\n"
       ]
      }
     ],
     "prompt_number": 36
    },
    {
     "cell_type": "code",
     "collapsed": false,
     "input": [
      "print x[0:10:1]"
     ],
     "language": "python",
     "metadata": {},
     "outputs": [
      {
       "output_type": "stream",
       "stream": "stdout",
       "text": [
        "[ 1  2  3  4  5  6  7  8  9 10]\n"
       ]
      }
     ],
     "prompt_number": 37
    },
    {
     "cell_type": "code",
     "collapsed": false,
     "input": [
      "print x[:10]"
     ],
     "language": "python",
     "metadata": {},
     "outputs": [
      {
       "output_type": "stream",
       "stream": "stdout",
       "text": [
        "[ 1  2  3  4  5  6  7  8  9 10]\n"
       ]
      }
     ],
     "prompt_number": 38
    },
    {
     "cell_type": "code",
     "collapsed": false,
     "input": [
      "print x[:10:2]"
     ],
     "language": "python",
     "metadata": {},
     "outputs": [
      {
       "output_type": "stream",
       "stream": "stdout",
       "text": [
        "[1 3 5 7 9]\n"
       ]
      }
     ],
     "prompt_number": 39
    },
    {
     "cell_type": "markdown",
     "metadata": {
      "slideshow": {
       "slide_type": "slide"
      }
     },
     "source": [
      "## 2D slicing"
     ]
    },
    {
     "cell_type": "code",
     "collapsed": false,
     "input": [
      "M = np.array([ [1, 2, 3],[4, 5, 6], [7,8,9]])"
     ],
     "language": "python",
     "metadata": {},
     "outputs": [],
     "prompt_number": 40
    },
    {
     "cell_type": "markdown",
     "metadata": {},
     "source": [
      "<img src=\"files/img/slice2d.png\" style=\"height:200px;\">"
     ]
    },
    {
     "cell_type": "code",
     "collapsed": false,
     "input": [
      "print M[0:2]"
     ],
     "language": "python",
     "metadata": {},
     "outputs": [
      {
       "output_type": "stream",
       "stream": "stdout",
       "text": [
        "[[1 2 3]\n",
        " [4 5 6]]\n"
       ]
      }
     ],
     "prompt_number": 41
    },
    {
     "cell_type": "code",
     "collapsed": false,
     "input": [
      "print M[:,0:2]"
     ],
     "language": "python",
     "metadata": {},
     "outputs": [
      {
       "output_type": "stream",
       "stream": "stdout",
       "text": [
        "[[1 2]\n",
        " [4 5]\n",
        " [7 8]]\n"
       ]
      }
     ],
     "prompt_number": 42
    },
    {
     "cell_type": "code",
     "collapsed": false,
     "input": [
      "M = np.array(np.arange(1,17)).reshape((4,4))\n",
      "print M"
     ],
     "language": "python",
     "metadata": {
      "slideshow": {
       "slide_type": "slide"
      }
     },
     "outputs": [
      {
       "output_type": "stream",
       "stream": "stdout",
       "text": [
        "[[ 1  2  3  4]\n",
        " [ 5  6  7  8]\n",
        " [ 9 10 11 12]\n",
        " [13 14 15 16]]\n"
       ]
      }
     ],
     "prompt_number": 43
    },
    {
     "cell_type": "code",
     "collapsed": false,
     "input": [
      "print M[::2, ::2]"
     ],
     "language": "python",
     "metadata": {},
     "outputs": [
      {
       "output_type": "stream",
       "stream": "stdout",
       "text": [
        "[[ 1  3]\n",
        " [ 9 11]]\n"
       ]
      }
     ],
     "prompt_number": 44
    },
    {
     "cell_type": "markdown",
     "metadata": {},
     "source": [
      "<img src=\"files/img/slice2deven.png\" style=\"height:200px;\">"
     ]
    },
    {
     "cell_type": "markdown",
     "metadata": {
      "slideshow": {
       "slide_type": "slide"
      }
     },
     "source": [
      "### Filtering"
     ]
    },
    {
     "cell_type": "code",
     "collapsed": false,
     "input": [
      "print x > 10"
     ],
     "language": "python",
     "metadata": {},
     "outputs": [
      {
       "output_type": "stream",
       "stream": "stdout",
       "text": [
        "[False False False False False False False False False False  True  True\n",
        "  True  True  True  True  True  True  True]\n"
       ]
      }
     ],
     "prompt_number": 45
    },
    {
     "cell_type": "code",
     "collapsed": false,
     "input": [
      "y = x[x>10]\n",
      "print y"
     ],
     "language": "python",
     "metadata": {},
     "outputs": [
      {
       "output_type": "stream",
       "stream": "stdout",
       "text": [
        "[11 12 13 14 15 16 17 18 19]\n"
       ]
      }
     ],
     "prompt_number": 46
    },
    {
     "cell_type": "code",
     "collapsed": false,
     "input": [
      "mask = (5 < x) * (x < 10)\n",
      "print mask"
     ],
     "language": "python",
     "metadata": {},
     "outputs": [
      {
       "output_type": "stream",
       "stream": "stdout",
       "text": [
        "[False False False False False  True  True  True  True False False False\n",
        " False False False False False False False]\n"
       ]
      }
     ],
     "prompt_number": 47
    },
    {
     "cell_type": "code",
     "collapsed": false,
     "input": [
      "print x[mask]"
     ],
     "language": "python",
     "metadata": {},
     "outputs": [
      {
       "output_type": "stream",
       "stream": "stdout",
       "text": [
        "[6 7 8 9]\n"
       ]
      }
     ],
     "prompt_number": 48
    },
    {
     "cell_type": "markdown",
     "metadata": {
      "slideshow": {
       "slide_type": "slide"
      }
     },
     "source": [
      "##Broadcasting\n",
      "\n",
      "Arithmetic between `array`s of different, but compatible, shapes."
     ]
    },
    {
     "cell_type": "code",
     "collapsed": false,
     "input": [
      "print np.arange(5) + 1"
     ],
     "language": "python",
     "metadata": {},
     "outputs": [
      {
       "output_type": "stream",
       "stream": "stdout",
       "text": [
        "[1 2 3 4 5]\n"
       ]
      }
     ],
     "prompt_number": 49
    },
    {
     "cell_type": "markdown",
     "metadata": {},
     "source": [
      "<img src=\"files/img/broad_simple.png\" style=\"height:200px;\">"
     ]
    },
    {
     "cell_type": "code",
     "collapsed": false,
     "input": [
      "A = np.arange(8).reshape(4,2)\n",
      "B = np.arange(2)\n",
      "\n",
      "print A.shape, B.shape"
     ],
     "language": "python",
     "metadata": {
      "slideshow": {
       "slide_type": "slide"
      }
     },
     "outputs": [
      {
       "output_type": "stream",
       "stream": "stdout",
       "text": [
        "(4, 2) (2,)\n"
       ]
      }
     ],
     "prompt_number": 50
    },
    {
     "cell_type": "code",
     "collapsed": false,
     "input": [
      "A + B"
     ],
     "language": "python",
     "metadata": {},
     "outputs": [
      {
       "metadata": {},
       "output_type": "pyout",
       "prompt_number": 51,
       "text": [
        "array([[0, 2],\n",
        "       [2, 4],\n",
        "       [4, 6],\n",
        "       [6, 8]])"
       ]
      }
     ],
     "prompt_number": 51
    },
    {
     "cell_type": "markdown",
     "metadata": {},
     "source": [
      "<img src=\"files/img/broad2d.png\" style=\"height:200px;\">"
     ]
    },
    {
     "cell_type": "markdown",
     "metadata": {
      "slideshow": {
       "slide_type": "slide"
      }
     },
     "source": [
      "### Example\n",
      "\n",
      "Find the distance from the mean of the set to every point?"
     ]
    },
    {
     "cell_type": "code",
     "collapsed": false,
     "input": [
      "a = np.random.randn(400,2)\n",
      "m = a.mean(0)\n",
      "plt.plot(a[:,0], a[:,1], 'o', markersize=6, alpha=0.5)\n",
      "plt.plot(m[0], m[1], 'ro', markersize=10)\n",
      "plt.show()"
     ],
     "language": "python",
     "metadata": {},
     "outputs": [
      {
       "metadata": {},
       "output_type": "display_data",
       "png": "[encoded data removed]",
       "text": [
        "<matplotlib.figure.Figure at 0x413c5d0>"
       ]
      }
     ],
     "prompt_number": 52
    },
    {
     "cell_type": "markdown",
     "metadata": {
      "slideshow": {
       "slide_type": "slide"
      }
     },
     "source": [
      "Euclidean distance\n",
      "\n",
      "$$d = \\sqrt{ \\sum (x_i - y_i)^2 }$$"
     ]
    },
    {
     "cell_type": "code",
     "collapsed": false,
     "input": [
      "sq = np.square(a - m)\n",
      "print sq.shape, a.shape, m.shape"
     ],
     "language": "python",
     "metadata": {
      "slideshow": {
       "slide_type": "-"
      }
     },
     "outputs": [
      {
       "output_type": "stream",
       "stream": "stdout",
       "text": [
        "(400, 2) (400, 2) (2,)\n"
       ]
      }
     ],
     "prompt_number": 53
    },
    {
     "cell_type": "markdown",
     "metadata": {},
     "source": [
      "The mean `a.mean(0)` was broadcast to every row in our matrix `a`.  Now we compute the column sum of `sq`."
     ]
    },
    {
     "cell_type": "code",
     "collapsed": false,
     "input": [
      "ssq = sq.sum(axis=1)\n",
      "print ssq.shape"
     ],
     "language": "python",
     "metadata": {},
     "outputs": [
      {
       "output_type": "stream",
       "stream": "stdout",
       "text": [
        "(400,)\n"
       ]
      }
     ],
     "prompt_number": 54
    },
    {
     "cell_type": "markdown",
     "metadata": {},
     "source": [
      "Now take the `sqrt`."
     ]
    },
    {
     "cell_type": "code",
     "collapsed": false,
     "input": [
      "dist = np.sqrt(ssq)\n",
      "print dist.shape"
     ],
     "language": "python",
     "metadata": {},
     "outputs": [
      {
       "output_type": "stream",
       "stream": "stdout",
       "text": [
        "(400,)\n"
       ]
      }
     ],
     "prompt_number": 55
    },
    {
     "cell_type": "code",
     "collapsed": false,
     "input": [
      "plt.show(plt.hist(dist))"
     ],
     "language": "python",
     "metadata": {
      "slideshow": {
       "slide_type": "slide"
      }
     },
     "outputs": [
      {
       "metadata": {},
       "output_type": "display_data",
       "png": "[encoded data removed]",
       "text": [
        "<matplotlib.figure.Figure at 0x4153590>"
       ]
      }
     ],
     "prompt_number": 56
    },
    {
     "cell_type": "code",
     "collapsed": false,
     "input": [
      "print a.mean()"
     ],
     "language": "python",
     "metadata": {},
     "outputs": [
      {
       "output_type": "stream",
       "stream": "stdout",
       "text": [
        "-0.0224118480525\n"
       ]
      }
     ],
     "prompt_number": 57
    },
    {
     "cell_type": "code",
     "collapsed": false,
     "input": [
      "a.shape"
     ],
     "language": "python",
     "metadata": {},
     "outputs": [
      {
       "metadata": {},
       "output_type": "pyout",
       "prompt_number": 58,
       "text": [
        "(400, 2)"
       ]
      }
     ],
     "prompt_number": 58
    },
    {
     "cell_type": "code",
     "collapsed": false,
     "input": [
      "a.mean(0).shape"
     ],
     "language": "python",
     "metadata": {},
     "outputs": [
      {
       "metadata": {},
       "output_type": "pyout",
       "prompt_number": 59,
       "text": [
        "(2,)"
       ]
      }
     ],
     "prompt_number": 59
    },
    {
     "cell_type": "code",
     "collapsed": false,
     "input": [
      "a.mean(1).shape"
     ],
     "language": "python",
     "metadata": {},
     "outputs": [
      {
       "metadata": {},
       "output_type": "pyout",
       "prompt_number": 62,
       "text": [
        "(400,)"
       ]
      }
     ],
     "prompt_number": 62
    },
    {
     "cell_type": "code",
     "collapsed": false,
     "input": [],
     "language": "python",
     "metadata": {},
     "outputs": []
    }
   ],
   "metadata": {}
  }
 ]
}