{
 "metadata": {
  "name": "",
  "signature": "sha256:f8f9de31d3c8034d6158d508f7a675ec958df22ce30dfc90bd461bc478925204"
 },
 "nbformat": 3,
 "nbformat_minor": 0,
 "worksheets": [
  {
   "cells": [
    {
     "cell_type": "markdown",
     "metadata": {},
     "source": [
      "<img src='https://www.rc.colorado.edu/sites/all/themes/research/logo.png' height=\"50px\">"
     ]
    },
    {
     "cell_type": "heading",
     "level": 1,
     "metadata": {
      "slideshow": {
       "slide_type": "slide"
      }
     },
     "source": [
      "IPython Notebook"
     ]
    },
    {
     "cell_type": "markdown",
     "metadata": {},
     "source": [
      "Interactive web-based computing, data analysis, and documentation."
     ]
    },
    {
     "cell_type": "heading",
     "level": 2,
     "metadata": {
      "slideshow": {
       "slide_type": "-"
      }
     },
     "source": [
      "Outline"
     ]
    },
    {
     "cell_type": "markdown",
     "metadata": {},
     "source": [
      "- What is the IPython Notebook?\n",
      "- Top features.\n",
      "- Running bash, R, and other languages.\n",
      "- Remote execution on your favorite cluster"
     ]
    },
    {
     "cell_type": "markdown",
     "metadata": {
      "slideshow": {
       "slide_type": "slide"
      }
     },
     "source": [
      "<img src='img/traditional.png'>"
     ]
    },
    {
     "cell_type": "markdown",
     "metadata": {
      "slideshow": {
       "slide_type": "slide"
      }
     },
     "source": [
      "<img src=\"img/notebook.png\">"
     ]
    },
    {
     "cell_type": "heading",
     "level": 2,
     "metadata": {
      "slideshow": {
       "slide_type": "slide"
      }
     },
     "source": [
      "What is the IPython Notebook?"
     ]
    },
    {
     "cell_type": "markdown",
     "metadata": {},
     "source": [
      "Web-based interactive `Python` programming environment.\n",
      "\n",
      "- One document for code and output\n",
      "- Run locally and remote\n",
      "- Document process\n",
      "- Share results"
     ]
    },
    {
     "cell_type": "heading",
     "level": 3,
     "metadata": {
      "slideshow": {
       "slide_type": "slide"
      }
     },
     "source": [
      "Does not separate code and text"
     ]
    },
    {
     "cell_type": "markdown",
     "metadata": {},
     "source": [
      "- Data structure ouput\n",
      "- Inline plots\n",
      "- [Literate programming](http://en.wikipedia.org/wiki/Literate_programming)\n",
      "    - Conversation, telling a data story\n",
      "\n",
      "\n",
      "- Great for *iterative* programming.\n",
      "    - Data analysis\n",
      "    - Quick scripts\n",
      "    - Prototyping"
     ]
    },
    {
     "cell_type": "heading",
     "level": 3,
     "metadata": {
      "slideshow": {
       "slide_type": "slide"
      }
     },
     "source": [
      "Locally and Remote"
     ]
    },
    {
     "cell_type": "markdown",
     "metadata": {},
     "source": [
      "- Run locally\n",
      "- Connect to the cloud (e.g [AWS](http://aws.amazon.com/))\n",
      "- Connect to supercomputer (e.g. [JANUS](https://www.rc.colorado.edu/services/compute/janus))\n",
      "- Add compute power:\n",
      "    - [mpi4py](http://mpi4py.scipy.org/)\n",
      "    - [IPython Parallel](http://ipython.org/ipython-doc/dev/parallel/)\n",
      "    - [spark](http://spark.incubator.apache.org/) MapReduce\n",
      "    - [Numbapro](http://docs.continuum.io/numbapro/) GPU\n",
      "    - ...\n",
      "    "
     ]
    },
    {
     "cell_type": "heading",
     "level": 3,
     "metadata": {
      "slideshow": {
       "slide_type": "slide"
      }
     },
     "source": [
      "Documentation and Sharing"
     ]
    },
    {
     "cell_type": "markdown",
     "metadata": {},
     "source": [
      "<img src='img/share.png'>"
     ]
    },
    {
     "cell_type": "heading",
     "level": 3,
     "metadata": {},
     "source": [
      "It's just a `json` file"
     ]
    },
    {
     "cell_type": "code",
     "collapsed": false,
     "input": [
      "with open('02_notebooks.ipynb','r') as infile:\n",
      "    tmp = infile.read()\n",
      "    inx = tmp.find(\"It's just a `json` file\")\n",
      "    \n",
      "print tmp[inx-200:inx+200]"
     ],
     "language": "python",
     "metadata": {
      "slideshow": {
       "slide_type": "slide"
      }
     },
     "outputs": [
      {
       "output_type": "stream",
       "stream": "stdout",
       "text": [
        "*\\n\",\n",
        "      \"- Latex files\\n\",\n",
        "      \"- PDF documents\\n\",\n",
        "      \"- Regular `*.py` files\"\n",
        "     ]\n",
        "    },\n",
        "    {\n",
        "     \"cell_type\": \"heading\",\n",
        "     \"level\": 3,\n",
        "     \"metadata\": {},\n",
        "     \"source\": [\n",
        "      \"It's just a `json` file\"\n",
        "     ]\n",
        "    },\n",
        "    {\n",
        "     \"cell_type\": \"code\",\n",
        "     \"collapsed\": false,\n",
        "     \"input\": [\n",
        "      \"with open('02_notebooks.ipynb','r') as infile:\\n\",\n",
        "      \"    tmp = infile.read()\n"
       ]
      }
     ],
     "prompt_number": 30
    },
    {
     "cell_type": "heading",
     "level": 3,
     "metadata": {},
     "source": [
      "Perspective"
     ]
    },
    {
     "cell_type": "markdown",
     "metadata": {
      "slideshow": {
       "slide_type": "slide"
      }
     },
     "source": [
      "- Fernando Perez: [The IPython notebook: a historical retrospective](http://blog.fperez.org/2012/01/ipython-notebook-historical.html)\n",
      "    - 2001: `IPython` begins.\n",
      "    - 2005: Started working on an early prototype.\n",
      "    - 2011: First official release.\n",
      "- Similar to \n",
      "    - [Mathematica notebooks](http://www.wolfram.com/mathematica/)\n",
      "    - [Maple worksheets](http://www.maplesoft.com/products/Maple/)\n",
      "    - [Sage notebook](http://www.sagenb.org/)"
     ]
    },
    {
     "cell_type": "heading",
     "level": 3,
     "metadata": {
      "slideshow": {
       "slide_type": "slide"
      }
     },
     "source": [
      "Keyboard Shortcuts"
     ]
    },
    {
     "cell_type": "markdown",
     "metadata": {},
     "source": [
      "<img src='img/help.png'>"
     ]
    },
    {
     "cell_type": "heading",
     "level": 3,
     "metadata": {
      "slideshow": {
       "slide_type": "slide"
      }
     },
     "source": [
      "`Markdown` and `Latex`"
     ]
    },
    {
     "cell_type": "markdown",
     "metadata": {},
     "source": [
      "- `Markdown`\n",
      "- Latex $y = \\sqrt{a + b}$"
     ]
    },
    {
     "cell_type": "heading",
     "level": 3,
     "metadata": {},
     "source": [
      "Images"
     ]
    },
    {
     "cell_type": "markdown",
     "metadata": {},
     "source": [
      "    <img src='images/monty-python.png' width=\"400\">"
     ]
    },
    {
     "cell_type": "markdown",
     "metadata": {},
     "source": [
      "This is an image:\n",
      "<img src='img/monty-python.png' width=\"400\">"
     ]
    },
    {
     "cell_type": "heading",
     "level": 3,
     "metadata": {
      "slideshow": {
       "slide_type": "slide"
      }
     },
     "source": [
      "Video"
     ]
    },
    {
     "cell_type": "code",
     "collapsed": false,
     "input": [
      "from IPython.display import YouTubeVideo\n",
      "YouTubeVideo('F4rFuIb1Ie4', start=2400, width=600, height=400)"
     ],
     "language": "python",
     "metadata": {},
     "outputs": []
    },
    {
     "cell_type": "heading",
     "level": 3,
     "metadata": {
      "slideshow": {
       "slide_type": "slide"
      }
     },
     "source": [
      "Embeded plots"
     ]
    },
    {
     "cell_type": "code",
     "collapsed": false,
     "input": [
      "import numpy as np\n",
      "x = np.random.randn(10000)"
     ],
     "language": "python",
     "metadata": {},
     "outputs": [],
     "prompt_number": 3
    },
    {
     "cell_type": "markdown",
     "metadata": {},
     "source": [
      "What does $x$ look like?"
     ]
    },
    {
     "cell_type": "code",
     "collapsed": false,
     "input": [
      "x"
     ],
     "language": "python",
     "metadata": {},
     "outputs": [
      {
       "metadata": {},
       "output_type": "pyout",
       "prompt_number": 4,
       "text": [
        "array([ 0.48705198,  2.32662392,  0.69944477, ..., -0.65440808,\n",
        "       -0.623407  ,  0.14348208])"
       ]
      }
     ],
     "prompt_number": 4
    },
    {
     "cell_type": "code",
     "collapsed": false,
     "input": [
      "%matplotlib inline\n",
      "import matplotlib.pyplot as plt\n",
      "plt.hist(x, bins=50)\n",
      "plt.show()"
     ],
     "language": "python",
     "metadata": {},
     "outputs": [
      {
       "metadata": {},
       "output_type": "display_data",
       "png": "[encoded data removed]",
       "text": [
        "<matplotlib.figure.Figure at 0x105f90a10>"
       ]
      }
     ],
     "prompt_number": 6
    },
    {
     "cell_type": "heading",
     "level": 3,
     "metadata": {
      "slideshow": {
       "slide_type": "slide"
      }
     },
     "source": [
      "Customizable"
     ]
    },
    {
     "cell_type": "markdown",
     "metadata": {},
     "source": [
      "- Custom `CSS`\n",
      "- Custom `javascript` libraries\n",
      "- Create your own output format.\n",
      "- Tools and workflow"
     ]
    },
    {
     "cell_type": "code",
     "collapsed": false,
     "input": [],
     "language": "python",
     "metadata": {},
     "outputs": []
    },
    {
     "cell_type": "heading",
     "level": 3,
     "metadata": {
      "slideshow": {
       "slide_type": "slide"
      }
     },
     "source": [
      "Magic Commands"
     ]
    },
    {
     "cell_type": "markdown",
     "metadata": {},
     "source": [
      "- Built-in useful functions\n",
      "- `%` line commands\n",
      "- `%%` cell commands"
     ]
    },
    {
     "cell_type": "heading",
     "level": 3,
     "metadata": {
      "slideshow": {
       "slide_type": "slide"
      }
     },
     "source": [
      "Write to a file."
     ]
    },
    {
     "cell_type": "code",
     "collapsed": false,
     "input": [
      "%%writefile example.py\n",
      "\n",
      "def hello():\n",
      "    print 'hello'"
     ],
     "language": "python",
     "metadata": {},
     "outputs": [
      {
       "output_type": "stream",
       "stream": "stdout",
       "text": [
        "Overwriting example.py\n"
       ]
      }
     ],
     "prompt_number": 7
    },
    {
     "cell_type": "heading",
     "level": 3,
     "metadata": {
      "slideshow": {
       "slide_type": "slide"
      }
     },
     "source": [
      "Load a file into a Notebook."
     ]
    },
    {
     "cell_type": "code",
     "collapsed": false,
     "input": [
      "%load example.py"
     ],
     "language": "python",
     "metadata": {},
     "outputs": [],
     "prompt_number": 8
    },
    {
     "cell_type": "code",
     "collapsed": false,
     "input": [
      "\n",
      "def hello():\n",
      "    print 'hello'"
     ],
     "language": "python",
     "metadata": {},
     "outputs": [],
     "prompt_number": 10
    },
    {
     "cell_type": "code",
     "collapsed": false,
     "input": [
      "hello()"
     ],
     "language": "python",
     "metadata": {},
     "outputs": [
      {
       "output_type": "stream",
       "stream": "stdout",
       "text": [
        "hello\n"
       ]
      }
     ],
     "prompt_number": 11
    },
    {
     "cell_type": "heading",
     "level": 3,
     "metadata": {
      "slideshow": {
       "slide_type": "slide"
      }
     },
     "source": [
      "Execute a file"
     ]
    },
    {
     "cell_type": "markdown",
     "metadata": {},
     "source": [
      "Great for working with your own files."
     ]
    },
    {
     "cell_type": "code",
     "collapsed": false,
     "input": [
      "%%writefile example.py\n",
      "\n",
      "def get():\n",
      "    return 10\n",
      "    \n",
      "A = get()"
     ],
     "language": "python",
     "metadata": {},
     "outputs": [
      {
       "output_type": "stream",
       "stream": "stdout",
       "text": [
        "Overwriting example.py\n"
       ]
      }
     ],
     "prompt_number": 12
    },
    {
     "cell_type": "code",
     "collapsed": false,
     "input": [
      "%run example.py\n",
      "\n",
      "print A"
     ],
     "language": "python",
     "metadata": {},
     "outputs": [
      {
       "output_type": "stream",
       "stream": "stdout",
       "text": [
        "10\n"
       ]
      }
     ],
     "prompt_number": 13
    },
    {
     "cell_type": "markdown",
     "metadata": {},
     "source": [
      "**Notice** that `A` is now available."
     ]
    },
    {
     "cell_type": "heading",
     "level": 3,
     "metadata": {
      "slideshow": {
       "slide_type": "slide"
      }
     },
     "source": [
      "`import` and `reload`"
     ]
    },
    {
     "cell_type": "markdown",
     "metadata": {},
     "source": [
      "Great for working with your own `modules`."
     ]
    },
    {
     "cell_type": "code",
     "collapsed": false,
     "input": [
      "import example as ex\n",
      "reload(ex)\n",
      "\n",
      "print ex.get()"
     ],
     "language": "python",
     "metadata": {},
     "outputs": [
      {
       "output_type": "stream",
       "stream": "stdout",
       "text": [
        "10\n"
       ]
      }
     ],
     "prompt_number": 18
    },
    {
     "cell_type": "heading",
     "level": 3,
     "metadata": {
      "slideshow": {
       "slide_type": "slide"
      }
     },
     "source": [
      "Other Languages: Bash"
     ]
    },
    {
     "cell_type": "code",
     "collapsed": false,
     "input": [
      "%%bash\n",
      "ls -l"
     ],
     "language": "python",
     "metadata": {},
     "outputs": [
      {
       "output_type": "stream",
       "stream": "stdout",
       "text": [
        "total 5224\n",
        "-rw-r--r--  1 mlunacek  staff   254209 Apr  9 14:00 02_notebooks.html\n",
        "-rw-r--r--  1 mlunacek  staff    28434 Apr 10 11:55 02_notebooks.ipynb\n",
        "-rw-r--r--@ 1 mlunacek  staff   158183 Apr  9 14:02 02_notebooks.pdf\n",
        "-rw-r--r--  1 mlunacek  staff     6323 Apr 10 11:35 02_notebooks.py\n",
        "-rw-rw-rw-  1 mlunacek  staff   257912 Apr  9 14:03 02_notebooks.slides.html\n",
        "-rw-r--r--  1 mlunacek  staff    27616 Apr  9 14:02 02_notebooks.tex\n",
        "drwxr-xr-x  4 mlunacek  staff      136 Apr  9 14:02 02_notebooks_files\n",
        "-rw-r--r--  1 mlunacek  staff     5672 Apr  9 14:16 03_sharing.ipynb\n",
        "-rw-r--r--  1 mlunacek  staff     1365 Apr  9 14:16 03_sharing.py\n",
        "-rw-r--r--  1 mlunacek  staff  1221653 Apr  9 19:55 04_interactive.ipynb\n",
        "-rw-r--r--  1 mlunacek  staff     2704 Apr  9 19:55 04_interactive.py\n",
        "-rw-r--r--@ 1 mlunacek  staff    72185 Apr  9 20:31 05_NumpyIntro.ipynb\n",
        "-rw-r--r--  1 mlunacek  staff      622 Apr 10 07:12 configuration.ipynb\n",
        "-rw-r--r--  1 mlunacek  staff      153 Apr 10 07:12 configuration.py\n",
        "-rwxr-xr-x  1 mlunacek  staff     9220 Apr  9 13:27 example\n",
        "-rw-r--r--  1 mlunacek  staff       82 Apr  9 13:27 example.cpp\n",
        "-rw-rw-rw-  1 mlunacek  staff       40 Apr 10 11:54 example.py\n",
        "-rw-r--r--  1 mlunacek  staff      219 Apr 10 11:55 example.pyc\n",
        "drwxr-xr-x  6 mlunacek  staff      204 Apr  9 10:19 images\n",
        "-rw-r--r--  1 mlunacek  staff   532976 Apr  9 14:54 iris.html\n",
        "-rw-r--r--  1 mlunacek  staff    28678 Apr  9 20:53 lab.ipynb\n",
        "-rw-r--r--  1 mlunacek  staff     3089 Apr  9 20:53 lab.py\n",
        "-rw-r--r--  1 mlunacek  staff      469 Apr  9 10:06 notebook.py\n",
        "-rw-r--r--  1 mlunacek  staff     5801 Apr  9 08:37 test.py\n"
       ]
      }
     ],
     "prompt_number": 19
    },
    {
     "cell_type": "code",
     "collapsed": false,
     "input": [
      "files = !ls -l # But glob is a better way\n",
      "print files"
     ],
     "language": "python",
     "metadata": {},
     "outputs": [
      {
       "output_type": "stream",
       "stream": "stdout",
       "text": [
        "['total 5224', '-rw-r--r--  1 mlunacek  staff   254209 Apr  9 14:00 02_notebooks.html', '-rw-r--r--  1 mlunacek  staff    28434 Apr 10 11:55 02_notebooks.ipynb', '-rw-r--r--@ 1 mlunacek  staff   158183 Apr  9 14:02 02_notebooks.pdf', '-rw-r--r--  1 mlunacek  staff     6323 Apr 10 11:35 02_notebooks.py', '-rw-rw-rw-  1 mlunacek  staff   257912 Apr  9 14:03 02_notebooks.slides.html', '-rw-r--r--  1 mlunacek  staff    27616 Apr  9 14:02 02_notebooks.tex', 'drwxr-xr-x  4 mlunacek  staff      136 Apr  9 14:02 02_notebooks_files', '-rw-r--r--  1 mlunacek  staff     5672 Apr  9 14:16 03_sharing.ipynb', '-rw-r--r--  1 mlunacek  staff     1365 Apr  9 14:16 03_sharing.py', '-rw-r--r--  1 mlunacek  staff  1221653 Apr  9 19:55 04_interactive.ipynb', '-rw-r--r--  1 mlunacek  staff     2704 Apr  9 19:55 04_interactive.py', '-rw-r--r--@ 1 mlunacek  staff    72185 Apr  9 20:31 05_NumpyIntro.ipynb', '-rw-r--r--  1 mlunacek  staff      622 Apr 10 07:12 configuration.ipynb', '-rw-r--r--  1 mlunacek  staff      153 Apr 10 07:12 configuration.py', '-rwxr-xr-x  1 mlunacek  staff     9220 Apr  9 13:27 example', '-rw-r--r--  1 mlunacek  staff       82 Apr  9 13:27 example.cpp', '-rw-rw-rw-  1 mlunacek  staff       40 Apr 10 11:54 example.py', '-rw-r--r--  1 mlunacek  staff      219 Apr 10 11:55 example.pyc', 'drwxr-xr-x  6 mlunacek  staff      204 Apr  9 10:19 images', '-rw-r--r--  1 mlunacek  staff   532976 Apr  9 14:54 iris.html', '-rw-r--r--  1 mlunacek  staff    28678 Apr  9 20:53 lab.ipynb', '-rw-r--r--  1 mlunacek  staff     3089 Apr  9 20:53 lab.py', '-rw-r--r--  1 mlunacek  staff      469 Apr  9 10:06 notebook.py', '-rw-r--r--  1 mlunacek  staff     5801 Apr  9 08:37 test.py']\n"
       ]
      }
     ],
     "prompt_number": 21
    },
    {
     "cell_type": "heading",
     "level": 3,
     "metadata": {
      "slideshow": {
       "slide_type": "slide"
      }
     },
     "source": [
      "Other Languages: R"
     ]
    },
    {
     "cell_type": "markdown",
     "metadata": {},
     "source": [
      "- Requires [rpy2](http://rpy.sourceforge.net/)\n",
      "- More [examples](http://nbviewer.ipython.org/github/ipython/ipython/blob/3607712653c66d63e0d7f13f073bde8c0f209ba8/docs/examples/notebooks/rmagic_extension.ipynb)"
     ]
    },
    {
     "cell_type": "code",
     "collapsed": false,
     "input": [
      "%load_ext rmagic\n",
      "%reload_ext rmagic"
     ],
     "language": "python",
     "metadata": {},
     "outputs": [],
     "prompt_number": 22
    },
    {
     "cell_type": "code",
     "collapsed": false,
     "input": [
      "X = np.array([0,1,2,3,4])\n",
      "Y = np.array([3,5,4,6,7])\n",
      "\n",
      "print X, Y"
     ],
     "language": "python",
     "metadata": {},
     "outputs": [
      {
       "output_type": "stream",
       "stream": "stdout",
       "text": [
        "[0 1 2 3 4] [3 5 4 6 7]\n"
       ]
      }
     ],
     "prompt_number": 23
    },
    {
     "cell_type": "code",
     "collapsed": false,
     "input": [
      "%Rpush X Y\n",
      "res = %R lm(Y~X)$coef\n",
      "print res"
     ],
     "language": "python",
     "metadata": {},
     "outputs": [
      {
       "output_type": "stream",
       "stream": "stdout",
       "text": [
        "[ 3.2  0.9]\n"
       ]
      }
     ],
     "prompt_number": 24
    },
    {
     "cell_type": "code",
     "collapsed": false,
     "input": [
      "%%R\n",
      "a = lm(Y~X)\n",
      "a$coef"
     ],
     "language": "python",
     "metadata": {},
     "outputs": [
      {
       "metadata": {},
       "output_type": "display_data",
       "text": [
        "(Intercept)           X \n",
        "        3.2         0.9 \n"
       ]
      }
     ],
     "prompt_number": 25
    },
    {
     "cell_type": "code",
     "collapsed": false,
     "input": [
      "%%R\n",
      "library(ggplot2)\n",
      "p <- ggplot( mtcars, aes( x = wt, y = mpg, color = cyl)) + geom_point()\n",
      "print(p)"
     ],
     "language": "python",
     "metadata": {
      "slideshow": {
       "slide_type": "slide"
      }
     },
     "outputs": [
      {
       "metadata": {},
       "output_type": "display_data",
       "png": "[encoded data removed]"
      }
     ],
     "prompt_number": 26
    },
    {
     "cell_type": "heading",
     "level": 3,
     "metadata": {
      "slideshow": {
       "slide_type": "slide"
      }
     },
     "source": [
      "Keep it all together"
     ]
    },
    {
     "cell_type": "code",
     "collapsed": false,
     "input": [
      "%%writefile example.cpp\n",
      "#include <iostream>\n",
      "\n",
      "int main(){\n",
      "    std::cout << \"hello from c++\" << std::endl;\n",
      "}"
     ],
     "language": "python",
     "metadata": {},
     "outputs": [
      {
       "output_type": "stream",
       "stream": "stdout",
       "text": [
        "Overwriting example.cpp\n"
       ]
      }
     ],
     "prompt_number": 27
    },
    {
     "cell_type": "code",
     "collapsed": false,
     "input": [
      "%%bash\n",
      "g++ example.cpp -o example\n",
      "./example"
     ],
     "language": "python",
     "metadata": {},
     "outputs": [
      {
       "output_type": "stream",
       "stream": "stdout",
       "text": [
        "hello from c++\n"
       ]
      }
     ],
     "prompt_number": 28
    },
    {
     "cell_type": "heading",
     "level": 2,
     "metadata": {
      "slideshow": {
       "slide_type": "slide"
      }
     },
     "source": [
      "Running on a Remote Cluster"
     ]
    },
    {
     "cell_type": "markdown",
     "metadata": {},
     "source": [
      "Steps:\n",
      "\n",
      "- Login\n",
      "\n",
      "        username@hostname\n",
      "\n",
      "- Start an iteractive job (optional)\n",
      "- Start the notebook:\n",
      "\n",
      "        `ipython notebook --no-browser`\n",
      "\n",
      "- Create an `ssh` tunnel to the node\n",
      "    \n",
      "        ssh -L localport:hostname:remoteport -f -N username@hostname"
     ]
    },
    {
     "cell_type": "markdown",
     "metadata": {
      "slideshow": {
       "slide_type": "slide"
      }
     },
     "source": [
      "Automate:\n",
      "\n",
      "- [starcluster](http://star.mit.edu/cluster/) for AWS\n",
      "- [saga-project](http://saga-project.github.io/)\n",
      "- Roll your own with [paramiko](http://www.lag.net/paramiko/) (example [remotenb](https://github.com/ResearchComputing/remotenb))"
     ]
    },
    {
     "cell_type": "code",
     "collapsed": false,
     "input": [
      "%%bash\n",
      "\n",
      "which notebook.py\n",
      "notebook.py --help"
     ],
     "language": "python",
     "metadata": {},
     "outputs": [
      {
       "output_type": "stream",
       "stream": "stdout",
       "text": [
        "/Users/mlunacek/bin/notebook.py\n",
        "usage: notebook.py [-h] [-q Q] [-n N] [name]\n",
        "\n",
        "positional arguments:\n",
        "  name\n",
        "\n",
        "optional arguments:\n",
        "  -h, --help  show this help message and exit\n",
        "  -q Q        queue name\n",
        "  -n N        number of nodes\n"
       ]
      }
     ],
     "prompt_number": 29
    },
    {
     "cell_type": "heading",
     "level": 2,
     "metadata": {},
     "source": [
      "NBconvert examples"
     ]
    },
    {
     "cell_type": "markdown",
     "metadata": {},
     "source": [
      "- HTML\n",
      "- PDF (print)\n",
      "- Slides\n",
      "- Dynamic Slides\n",
      "- ReStructured Text ([sphinx](http://sphinx-doc.org/))"
     ]
    },
    {
     "cell_type": "code",
     "collapsed": false,
     "input": [],
     "language": "python",
     "metadata": {},
     "outputs": []
    }
   ],
   "metadata": {}
  }
 ]
}