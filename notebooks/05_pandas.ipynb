{
 "metadata": {
  "name": "",
  "signature": "sha256:ee45526532caf387990470b179b2046ea73adc4eb7c846f0acd20a46b9a0ff97"
 },
 "nbformat": 3,
 "nbformat_minor": 0,
 "worksheets": [
  {
   "cells": [
    {
     "cell_type": "markdown",
     "metadata": {
      "slideshow": {
       "slide_type": "slide"
      }
     },
     "source": [
      "<img src='https://www.rc.colorado.edu/sites/all/themes/research/logo.png'>"
     ]
    },
    {
     "cell_type": "markdown",
     "metadata": {},
     "source": [
      "#Introduction to Pandas\n",
      "\n",
      "Monte Lunacek"
     ]
    },
    {
     "cell_type": "markdown",
     "metadata": {
      "slideshow": {
       "slide_type": "slide"
      }
     },
     "source": [
      "## `pandas`\n",
      "\n",
      "- Provides python a `DataFrame`\n",
      "- Structured manipulation tools\n",
      "- Built on top of `numpy`\n",
      "- Huge growth from 2011-2012\n",
      "- Very **efficient**\n",
      "- Great for *medium* data\n",
      "\n",
      "Resources\n",
      "\n",
      "- [pandas.pydata.org](http://pandas.pydata.org/)\n",
      "- [Python for Data Analysis](http://www.amazon.com/Python-Data-Analysis-Wrangling-IPython/dp/1449319793) by Wes McKinney\n",
      "- [Data Wrangling Kung Fu with Pandas](vimeo.com/63295598) by Wes McKinney\n",
      "- [Cheat sheet](https://s3.amazonaws.com/quandl-static-content/Documents/Quandl+-+Pandas,+SciPy,+NumPy+Cheat+Sheet.pdf) by Quandl"
     ]
    },
    {
     "cell_type": "markdown",
     "metadata": {
      "slideshow": {
       "slide_type": "slide"
      }
     },
     "source": [
      "##Data Analysis\n",
      "\n",
      "Raw data\n",
      "\n",
      "- Experiments, scraping, API, downloading\n",
      "- Different formats or unstructured\n",
      "\n",
      "Processing\n",
      "\n",
      "- Getting ready\n",
      "- Cleaning, reshaping, joining, grouping\n",
      "\n",
      "Exploratory data Analysis\n",
      "\n",
      "- Plotting, summarizing, familiarizing\n",
      "\n",
      "Analysis\n",
      "\n",
      "- Statistics, machine learning, ect.\n",
      "\n",
      "Visualization\n",
      "\n",
      "- Share results"
     ]
    },
    {
     "cell_type": "markdown",
     "metadata": {
      "slideshow": {
       "slide_type": "slide"
      }
     },
     "source": [
      "### Why `pandas`?\n",
      "\n",
      "> 80% of the effort in data analysis is spent cleaning data. [Hadley Wickham](http://vita.had.co.nz/papers/tidy-data.pdf)\n",
      "\n",
      "Efficency\n",
      "\n",
      "- Different views of data\n",
      "- [Tidy data](http://vita.had.co.nz/papers/tidy-data.pdf) by Hadley Wickham\n",
      "\n",
      "Raw data is often in the wrong format\n",
      "\n",
      "- How often to you download an array ready for array-oriented computing?\n",
      "- e.g. `scikit-learn` interface\n",
      "\n",
      "Storage may be best in a different format\n",
      "\n",
      "- Sparse representations\n",
      "- Upload to database\n",
      "\n"
     ]
    },
    {
     "cell_type": "markdown",
     "metadata": {
      "slideshow": {
       "slide_type": "slide"
      }
     },
     "source": [
      "## Outline\n",
      "\n",
      "Simple example\n",
      "\n",
      "- Reshaping: `pd.pivot` and `pd.melt`\n",
      "- Many basic operations: add, remove, indexing\n",
      "\n",
      "Movies\n",
      "\n",
      "- Joining\n",
      "- Groupby\n",
      "- Sorting\n"
     ]
    },
    {
     "cell_type": "markdown",
     "metadata": {
      "slideshow": {
       "slide_type": "slide"
      }
     },
     "source": [
      "### Simple example\n",
      "\n",
      "Based on [Data Wrangling Kung Fu with Pandas](vimeo.com/63295598) by Wes McKinney"
     ]
    },
    {
     "cell_type": "code",
     "collapsed": false,
     "input": [
      "import os\n",
      "import pandas as  pd\n",
      "import numpy as np"
     ],
     "language": "python",
     "metadata": {},
     "outputs": [],
     "prompt_number": 1
    },
    {
     "cell_type": "code",
     "collapsed": false,
     "input": [
      "dates = ['2014-02-16', '2014-02-17', '2014-02-18', '2014-02-19']\n",
      "algs = ['Model-A','Model-B','Model-C']\n",
      "\n",
      "filename = os.path.join('data','example.csv')\n",
      "\n",
      "with open(filename,'w') as outfile:\n",
      "    outfile.write('date,type,value\\n')\n",
      "    for d in dates:\n",
      "        for a in algs:\n",
      "            v = np.random.randint(10, size=1)[0]\n",
      "            tmp = '{0},{1},{2}\\n'.format(d,a,v)\n",
      "            outfile.write(tmp)"
     ],
     "language": "python",
     "metadata": {},
     "outputs": [],
     "prompt_number": 2
    },
    {
     "cell_type": "code",
     "collapsed": false,
     "input": [
      "with open(filename, 'r') as infile:\n",
      "    print infile.read()"
     ],
     "language": "python",
     "metadata": {},
     "outputs": [
      {
       "output_type": "stream",
       "stream": "stdout",
       "text": [
        "date,type,value\n",
        "2014-02-16,Model-A,3\n",
        "2014-02-16,Model-B,8\n",
        "2014-02-16,Model-C,1\n",
        "2014-02-17,Model-A,9\n",
        "2014-02-17,Model-B,1\n",
        "2014-02-17,Model-C,0\n",
        "2014-02-18,Model-A,1\n",
        "2014-02-18,Model-B,9\n",
        "2014-02-18,Model-C,7\n",
        "2014-02-19,Model-A,3\n",
        "2014-02-19,Model-B,0\n",
        "2014-02-19,Model-C,3\n",
        "\n"
       ]
      }
     ],
     "prompt_number": 3
    },
    {
     "cell_type": "markdown",
     "metadata": {},
     "source": [
      "### Creating a `DataFrame`"
     ]
    },
    {
     "cell_type": "code",
     "collapsed": false,
     "input": [
      "df = pd.read_csv(filename)\n",
      "df"
     ],
     "language": "python",
     "metadata": {},
     "outputs": [
      {
       "html": [
        "<div style=\"max-height:1000px;max-width:1500px;overflow:auto;\">\n",
        "<table border=\"1\" class=\"dataframe\">\n",
        "  <thead>\n",
        "    <tr style=\"text-align: right;\">\n",
        "      <th></th>\n",
        "      <th>date</th>\n",
        "      <th>type</th>\n",
        "      <th>value</th>\n",
        "    </tr>\n",
        "  </thead>\n",
        "  <tbody>\n",
        "    <tr>\n",
        "      <th>0 </th>\n",
        "      <td> 2014-02-16</td>\n",
        "      <td> Model-A</td>\n",
        "      <td> 3</td>\n",
        "    </tr>\n",
        "    <tr>\n",
        "      <th>1 </th>\n",
        "      <td> 2014-02-16</td>\n",
        "      <td> Model-B</td>\n",
        "      <td> 8</td>\n",
        "    </tr>\n",
        "    <tr>\n",
        "      <th>2 </th>\n",
        "      <td> 2014-02-16</td>\n",
        "      <td> Model-C</td>\n",
        "      <td> 1</td>\n",
        "    </tr>\n",
        "    <tr>\n",
        "      <th>3 </th>\n",
        "      <td> 2014-02-17</td>\n",
        "      <td> Model-A</td>\n",
        "      <td> 9</td>\n",
        "    </tr>\n",
        "    <tr>\n",
        "      <th>4 </th>\n",
        "      <td> 2014-02-17</td>\n",
        "      <td> Model-B</td>\n",
        "      <td> 1</td>\n",
        "    </tr>\n",
        "    <tr>\n",
        "      <th>5 </th>\n",
        "      <td> 2014-02-17</td>\n",
        "      <td> Model-C</td>\n",
        "      <td> 0</td>\n",
        "    </tr>\n",
        "    <tr>\n",
        "      <th>6 </th>\n",
        "      <td> 2014-02-18</td>\n",
        "      <td> Model-A</td>\n",
        "      <td> 1</td>\n",
        "    </tr>\n",
        "    <tr>\n",
        "      <th>7 </th>\n",
        "      <td> 2014-02-18</td>\n",
        "      <td> Model-B</td>\n",
        "      <td> 9</td>\n",
        "    </tr>\n",
        "    <tr>\n",
        "      <th>8 </th>\n",
        "      <td> 2014-02-18</td>\n",
        "      <td> Model-C</td>\n",
        "      <td> 7</td>\n",
        "    </tr>\n",
        "    <tr>\n",
        "      <th>9 </th>\n",
        "      <td> 2014-02-19</td>\n",
        "      <td> Model-A</td>\n",
        "      <td> 3</td>\n",
        "    </tr>\n",
        "    <tr>\n",
        "      <th>10</th>\n",
        "      <td> 2014-02-19</td>\n",
        "      <td> Model-B</td>\n",
        "      <td> 0</td>\n",
        "    </tr>\n",
        "    <tr>\n",
        "      <th>11</th>\n",
        "      <td> 2014-02-19</td>\n",
        "      <td> Model-C</td>\n",
        "      <td> 3</td>\n",
        "    </tr>\n",
        "  </tbody>\n",
        "</table>\n",
        "<p>12 rows \u00d7 3 columns</p>\n",
        "</div>"
       ],
       "metadata": {},
       "output_type": "pyout",
       "prompt_number": 4,
       "text": [
        "          date     type  value\n",
        "0   2014-02-16  Model-A      3\n",
        "1   2014-02-16  Model-B      8\n",
        "2   2014-02-16  Model-C      1\n",
        "3   2014-02-17  Model-A      9\n",
        "4   2014-02-17  Model-B      1\n",
        "5   2014-02-17  Model-C      0\n",
        "6   2014-02-18  Model-A      1\n",
        "7   2014-02-18  Model-B      9\n",
        "8   2014-02-18  Model-C      7\n",
        "9   2014-02-19  Model-A      3\n",
        "10  2014-02-19  Model-B      0\n",
        "11  2014-02-19  Model-C      3\n",
        "\n",
        "[12 rows x 3 columns]"
       ]
      }
     ],
     "prompt_number": 4
    },
    {
     "cell_type": "markdown",
     "metadata": {},
     "source": [
      "**Why store it this way?**\n",
      "\n",
      "- Different type\n",
      "- Different metric"
     ]
    },
    {
     "cell_type": "markdown",
     "metadata": {},
     "source": [
      "### Reshape with `pivot`\n",
      "\n",
      "- Question: What is the average value for each date?\n",
      "- How many observations do I have for each model?"
     ]
    },
    {
     "cell_type": "code",
     "collapsed": false,
     "input": [
      "results = df.pivot('date', 'type', 'value') #row, column, values (optional)\n",
      "print results"
     ],
     "language": "python",
     "metadata": {},
     "outputs": [
      {
       "output_type": "stream",
       "stream": "stdout",
       "text": [
        "type        Model-A  Model-B  Model-C\n",
        "date                                 \n",
        "2014-02-16        3        8        1\n",
        "2014-02-17        9        1        0\n",
        "2014-02-18        1        9        7\n",
        "2014-02-19        3        0        3\n",
        "\n",
        "[4 rows x 3 columns]\n"
       ]
      }
     ],
     "prompt_number": 5
    },
    {
     "cell_type": "code",
     "collapsed": false,
     "input": [
      "results.columns"
     ],
     "language": "python",
     "metadata": {},
     "outputs": [
      {
       "metadata": {},
       "output_type": "pyout",
       "prompt_number": 6,
       "text": [
        "Index([u'Model-A', u'Model-B', u'Model-C'], dtype='object')"
       ]
      }
     ],
     "prompt_number": 6
    },
    {
     "cell_type": "code",
     "collapsed": false,
     "input": [
      "results.index"
     ],
     "language": "python",
     "metadata": {},
     "outputs": [
      {
       "metadata": {},
       "output_type": "pyout",
       "prompt_number": 7,
       "text": [
        "Index([u'2014-02-16', u'2014-02-17', u'2014-02-18', u'2014-02-19'], dtype='object')"
       ]
      }
     ],
     "prompt_number": 7
    },
    {
     "cell_type": "markdown",
     "metadata": {},
     "source": [
      "###Columns access"
     ]
    },
    {
     "cell_type": "code",
     "collapsed": false,
     "input": [
      "results['Model-A']"
     ],
     "language": "python",
     "metadata": {},
     "outputs": [
      {
       "metadata": {},
       "output_type": "pyout",
       "prompt_number": 8,
       "text": [
        "date\n",
        "2014-02-16    3\n",
        "2014-02-17    9\n",
        "2014-02-18    1\n",
        "2014-02-19    3\n",
        "Name: Model-A, dtype: int64"
       ]
      }
     ],
     "prompt_number": 8
    },
    {
     "cell_type": "code",
     "collapsed": false,
     "input": [
      "results['Model-A'].values"
     ],
     "language": "python",
     "metadata": {},
     "outputs": [
      {
       "metadata": {},
       "output_type": "pyout",
       "prompt_number": 9,
       "text": [
        "array([3, 9, 1, 3])"
       ]
      }
     ],
     "prompt_number": 9
    },
    {
     "cell_type": "markdown",
     "metadata": {},
     "source": [
      "###Row access"
     ]
    },
    {
     "cell_type": "code",
     "collapsed": false,
     "input": [
      "results.ix[0]"
     ],
     "language": "python",
     "metadata": {},
     "outputs": [
      {
       "metadata": {},
       "output_type": "pyout",
       "prompt_number": 10,
       "text": [
        "type\n",
        "Model-A    3\n",
        "Model-B    8\n",
        "Model-C    1\n",
        "Name: 2014-02-16, dtype: int64"
       ]
      }
     ],
     "prompt_number": 10
    },
    {
     "cell_type": "code",
     "collapsed": false,
     "input": [
      "results.ix['2014-02-16']"
     ],
     "language": "python",
     "metadata": {},
     "outputs": [
      {
       "metadata": {},
       "output_type": "pyout",
       "prompt_number": 11,
       "text": [
        "type\n",
        "Model-A    3\n",
        "Model-B    8\n",
        "Model-C    1\n",
        "Name: 2014-02-16, dtype: int64"
       ]
      }
     ],
     "prompt_number": 11
    },
    {
     "cell_type": "markdown",
     "metadata": {},
     "source": [
      "###Range access"
     ]
    },
    {
     "cell_type": "code",
     "collapsed": false,
     "input": [
      "print results.ix[2:4,1:]"
     ],
     "language": "python",
     "metadata": {},
     "outputs": [
      {
       "output_type": "stream",
       "stream": "stdout",
       "text": [
        "type        Model-B  Model-C\n",
        "date                        \n",
        "2014-02-18        9        7\n",
        "2014-02-19        0        3\n",
        "\n",
        "[2 rows x 2 columns]\n"
       ]
      }
     ],
     "prompt_number": 12
    },
    {
     "cell_type": "markdown",
     "metadata": {},
     "source": [
      "### Summarize rows and columns\n",
      "\n",
      "Question: What is the average value for each date?"
     ]
    },
    {
     "cell_type": "code",
     "collapsed": false,
     "input": [
      "results.mean(axis=1)"
     ],
     "language": "python",
     "metadata": {},
     "outputs": [
      {
       "metadata": {},
       "output_type": "pyout",
       "prompt_number": 13,
       "text": [
        "date\n",
        "2014-02-16    4.000000\n",
        "2014-02-17    3.333333\n",
        "2014-02-18    5.666667\n",
        "2014-02-19    2.000000\n",
        "dtype: float64"
       ]
      }
     ],
     "prompt_number": 13
    },
    {
     "cell_type": "markdown",
     "metadata": {},
     "source": [
      "How many observations do I have for each model?"
     ]
    },
    {
     "cell_type": "code",
     "collapsed": false,
     "input": [
      "results.count(axis=0)"
     ],
     "language": "python",
     "metadata": {},
     "outputs": [
      {
       "metadata": {},
       "output_type": "pyout",
       "prompt_number": 14,
       "text": [
        "type\n",
        "Model-A    4\n",
        "Model-B    4\n",
        "Model-C    4\n",
        "dtype: int64"
       ]
      }
     ],
     "prompt_number": 14
    },
    {
     "cell_type": "markdown",
     "metadata": {},
     "source": [
      "### Add some data with `pd.concat`"
     ]
    },
    {
     "cell_type": "code",
     "collapsed": false,
     "input": [
      "df = pd.read_csv(filename)\n",
      "tmp = {'date': ['2014-02-16','2014-02-18'],\n",
      "       'type': ['Model-D', 'Model-D'],\n",
      "       'value': [11, 7]}\n",
      "\n",
      "pd.DataFrame(tmp)"
     ],
     "language": "python",
     "metadata": {},
     "outputs": [
      {
       "html": [
        "<div style=\"max-height:1000px;max-width:1500px;overflow:auto;\">\n",
        "<table border=\"1\" class=\"dataframe\">\n",
        "  <thead>\n",
        "    <tr style=\"text-align: right;\">\n",
        "      <th></th>\n",
        "      <th>date</th>\n",
        "      <th>type</th>\n",
        "      <th>value</th>\n",
        "    </tr>\n",
        "  </thead>\n",
        "  <tbody>\n",
        "    <tr>\n",
        "      <th>0</th>\n",
        "      <td> 2014-02-16</td>\n",
        "      <td> Model-D</td>\n",
        "      <td> 11</td>\n",
        "    </tr>\n",
        "    <tr>\n",
        "      <th>1</th>\n",
        "      <td> 2014-02-18</td>\n",
        "      <td> Model-D</td>\n",
        "      <td>  7</td>\n",
        "    </tr>\n",
        "  </tbody>\n",
        "</table>\n",
        "<p>2 rows \u00d7 3 columns</p>\n",
        "</div>"
       ],
       "metadata": {},
       "output_type": "pyout",
       "prompt_number": 15,
       "text": [
        "         date     type  value\n",
        "0  2014-02-16  Model-D     11\n",
        "1  2014-02-18  Model-D      7\n",
        "\n",
        "[2 rows x 3 columns]"
       ]
      }
     ],
     "prompt_number": 15
    },
    {
     "cell_type": "code",
     "collapsed": false,
     "input": [
      "df = pd.concat([df,pd.DataFrame(tmp)], ignore_index=True)\n",
      "df.shape"
     ],
     "language": "python",
     "metadata": {},
     "outputs": [
      {
       "metadata": {},
       "output_type": "pyout",
       "prompt_number": 16,
       "text": [
        "(14, 3)"
       ]
      }
     ],
     "prompt_number": 16
    },
    {
     "cell_type": "markdown",
     "metadata": {},
     "source": [
      "### Delete a row"
     ]
    },
    {
     "cell_type": "code",
     "collapsed": false,
     "input": [
      "df.drop(2, axis=0).head()"
     ],
     "language": "python",
     "metadata": {},
     "outputs": [
      {
       "html": [
        "<div style=\"max-height:1000px;max-width:1500px;overflow:auto;\">\n",
        "<table border=\"1\" class=\"dataframe\">\n",
        "  <thead>\n",
        "    <tr style=\"text-align: right;\">\n",
        "      <th></th>\n",
        "      <th>date</th>\n",
        "      <th>type</th>\n",
        "      <th>value</th>\n",
        "    </tr>\n",
        "  </thead>\n",
        "  <tbody>\n",
        "    <tr>\n",
        "      <th>0</th>\n",
        "      <td> 2014-02-16</td>\n",
        "      <td> Model-A</td>\n",
        "      <td> 3</td>\n",
        "    </tr>\n",
        "    <tr>\n",
        "      <th>1</th>\n",
        "      <td> 2014-02-16</td>\n",
        "      <td> Model-B</td>\n",
        "      <td> 8</td>\n",
        "    </tr>\n",
        "    <tr>\n",
        "      <th>3</th>\n",
        "      <td> 2014-02-17</td>\n",
        "      <td> Model-A</td>\n",
        "      <td> 9</td>\n",
        "    </tr>\n",
        "    <tr>\n",
        "      <th>4</th>\n",
        "      <td> 2014-02-17</td>\n",
        "      <td> Model-B</td>\n",
        "      <td> 1</td>\n",
        "    </tr>\n",
        "    <tr>\n",
        "      <th>5</th>\n",
        "      <td> 2014-02-17</td>\n",
        "      <td> Model-C</td>\n",
        "      <td> 0</td>\n",
        "    </tr>\n",
        "  </tbody>\n",
        "</table>\n",
        "<p>5 rows \u00d7 3 columns</p>\n",
        "</div>"
       ],
       "metadata": {},
       "output_type": "pyout",
       "prompt_number": 17,
       "text": [
        "         date     type  value\n",
        "0  2014-02-16  Model-A      3\n",
        "1  2014-02-16  Model-B      8\n",
        "3  2014-02-17  Model-A      9\n",
        "4  2014-02-17  Model-B      1\n",
        "5  2014-02-17  Model-C      0\n",
        "\n",
        "[5 rows x 3 columns]"
       ]
      }
     ],
     "prompt_number": 17
    },
    {
     "cell_type": "code",
     "collapsed": false,
     "input": [
      "df.drop(2, inplace=True)"
     ],
     "language": "python",
     "metadata": {},
     "outputs": [],
     "prompt_number": 18
    },
    {
     "cell_type": "code",
     "collapsed": false,
     "input": [
      "df.drop('type', axis=1).head()"
     ],
     "language": "python",
     "metadata": {},
     "outputs": [
      {
       "html": [
        "<div style=\"max-height:1000px;max-width:1500px;overflow:auto;\">\n",
        "<table border=\"1\" class=\"dataframe\">\n",
        "  <thead>\n",
        "    <tr style=\"text-align: right;\">\n",
        "      <th></th>\n",
        "      <th>date</th>\n",
        "      <th>value</th>\n",
        "    </tr>\n",
        "  </thead>\n",
        "  <tbody>\n",
        "    <tr>\n",
        "      <th>0</th>\n",
        "      <td> 2014-02-16</td>\n",
        "      <td> 3</td>\n",
        "    </tr>\n",
        "    <tr>\n",
        "      <th>1</th>\n",
        "      <td> 2014-02-16</td>\n",
        "      <td> 8</td>\n",
        "    </tr>\n",
        "    <tr>\n",
        "      <th>3</th>\n",
        "      <td> 2014-02-17</td>\n",
        "      <td> 9</td>\n",
        "    </tr>\n",
        "    <tr>\n",
        "      <th>4</th>\n",
        "      <td> 2014-02-17</td>\n",
        "      <td> 1</td>\n",
        "    </tr>\n",
        "    <tr>\n",
        "      <th>5</th>\n",
        "      <td> 2014-02-17</td>\n",
        "      <td> 0</td>\n",
        "    </tr>\n",
        "  </tbody>\n",
        "</table>\n",
        "<p>5 rows \u00d7 2 columns</p>\n",
        "</div>"
       ],
       "metadata": {},
       "output_type": "pyout",
       "prompt_number": 19,
       "text": [
        "         date  value\n",
        "0  2014-02-16      3\n",
        "1  2014-02-16      8\n",
        "3  2014-02-17      9\n",
        "4  2014-02-17      1\n",
        "5  2014-02-17      0\n",
        "\n",
        "[5 rows x 2 columns]"
       ]
      }
     ],
     "prompt_number": 19
    },
    {
     "cell_type": "markdown",
     "metadata": {},
     "source": [
      "### Let's `reshape` again..."
     ]
    },
    {
     "cell_type": "code",
     "collapsed": false,
     "input": [
      "results = df.pivot('date','type', 'value')\n",
      "print results"
     ],
     "language": "python",
     "metadata": {},
     "outputs": [
      {
       "output_type": "stream",
       "stream": "stdout",
       "text": [
        "type        Model-A  Model-B  Model-C  Model-D\n",
        "date                                          \n",
        "2014-02-16        3        8      NaN       11\n",
        "2014-02-17        9        1        0      NaN\n",
        "2014-02-18        1        9        7        7\n",
        "2014-02-19        3        0        3      NaN\n",
        "\n",
        "[4 rows x 4 columns]\n"
       ]
      }
     ],
     "prompt_number": 20
    },
    {
     "cell_type": "code",
     "collapsed": false,
     "input": [
      "results.mean(axis=1)"
     ],
     "language": "python",
     "metadata": {},
     "outputs": [
      {
       "metadata": {},
       "output_type": "pyout",
       "prompt_number": 21,
       "text": [
        "date\n",
        "2014-02-16    7.333333\n",
        "2014-02-17    3.333333\n",
        "2014-02-18    6.000000\n",
        "2014-02-19    2.000000\n",
        "dtype: float64"
       ]
      }
     ],
     "prompt_number": 21
    },
    {
     "cell_type": "code",
     "collapsed": false,
     "input": [
      "results.count(axis=0)"
     ],
     "language": "python",
     "metadata": {},
     "outputs": [
      {
       "metadata": {},
       "output_type": "pyout",
       "prompt_number": 22,
       "text": [
        "type\n",
        "Model-A    4\n",
        "Model-B    4\n",
        "Model-C    3\n",
        "Model-D    2\n",
        "dtype: int64"
       ]
      }
     ],
     "prompt_number": 22
    },
    {
     "cell_type": "code",
     "collapsed": false,
     "input": [
      "results.count(axis=1)"
     ],
     "language": "python",
     "metadata": {},
     "outputs": [
      {
       "metadata": {},
       "output_type": "pyout",
       "prompt_number": 23,
       "text": [
        "date\n",
        "2014-02-16    3\n",
        "2014-02-17    3\n",
        "2014-02-18    4\n",
        "2014-02-19    3\n",
        "dtype: int64"
       ]
      }
     ],
     "prompt_number": 23
    },
    {
     "cell_type": "markdown",
     "metadata": {},
     "source": [
      "###Missing vales: `isnull()` and `fillna()`"
     ]
    },
    {
     "cell_type": "code",
     "collapsed": false,
     "input": [
      "print results.isnull()"
     ],
     "language": "python",
     "metadata": {},
     "outputs": [
      {
       "output_type": "stream",
       "stream": "stdout",
       "text": [
        "type       Model-A Model-B Model-C Model-D\n",
        "date                                      \n",
        "2014-02-16   False   False    True   False\n",
        "2014-02-17   False   False   False    True\n",
        "2014-02-18   False   False   False   False\n",
        "2014-02-19   False   False   False    True\n",
        "\n",
        "[4 rows x 4 columns]\n"
       ]
      }
     ],
     "prompt_number": 24
    },
    {
     "cell_type": "code",
     "collapsed": false,
     "input": [
      "print results.fillna(0)"
     ],
     "language": "python",
     "metadata": {},
     "outputs": [
      {
       "output_type": "stream",
       "stream": "stdout",
       "text": [
        "type        Model-A  Model-B  Model-C  Model-D\n",
        "date                                          \n",
        "2014-02-16        3        8        0       11\n",
        "2014-02-17        9        1        0        0\n",
        "2014-02-18        1        9        7        7\n",
        "2014-02-19        3        0        3        0\n",
        "\n",
        "[4 rows x 4 columns]\n"
       ]
      }
     ],
     "prompt_number": 25
    },
    {
     "cell_type": "code",
     "collapsed": false,
     "input": [
      "print results"
     ],
     "language": "python",
     "metadata": {},
     "outputs": [
      {
       "output_type": "stream",
       "stream": "stdout",
       "text": [
        "type        Model-A  Model-B  Model-C  Model-D\n",
        "date                                          \n",
        "2014-02-16        3        8      NaN       11\n",
        "2014-02-17        9        1        0      NaN\n",
        "2014-02-18        1        9        7        7\n",
        "2014-02-19        3        0        3      NaN\n",
        "\n",
        "[4 rows x 4 columns]\n"
       ]
      }
     ],
     "prompt_number": 26
    },
    {
     "cell_type": "code",
     "collapsed": false,
     "input": [
      "tmp = results.copy()"
     ],
     "language": "python",
     "metadata": {},
     "outputs": [],
     "prompt_number": 27
    },
    {
     "cell_type": "code",
     "collapsed": false,
     "input": [
      "tmp.fillna(0, inplace=True)\n",
      "print tmp"
     ],
     "language": "python",
     "metadata": {},
     "outputs": [
      {
       "output_type": "stream",
       "stream": "stdout",
       "text": [
        "type        Model-A  Model-B  Model-C  Model-D\n",
        "date                                          \n",
        "2014-02-16        3        8        0       11\n",
        "2014-02-17        9        1        0        0\n",
        "2014-02-18        1        9        7        7\n",
        "2014-02-19        3        0        3        0\n",
        "\n",
        "[4 rows x 4 columns]\n"
       ]
      }
     ],
     "prompt_number": 28
    },
    {
     "cell_type": "markdown",
     "metadata": {},
     "source": [
      "### `reset_index`"
     ]
    },
    {
     "cell_type": "code",
     "collapsed": false,
     "input": [
      "tmp.reset_index(inplace=True)\n",
      "tmp.columns"
     ],
     "language": "python",
     "metadata": {},
     "outputs": [
      {
       "metadata": {},
       "output_type": "pyout",
       "prompt_number": 29,
       "text": [
        "Index([u'date', u'Model-A', u'Model-B', u'Model-C', u'Model-D'], dtype='object')"
       ]
      }
     ],
     "prompt_number": 29
    },
    {
     "cell_type": "code",
     "collapsed": false,
     "input": [
      "print tmp"
     ],
     "language": "python",
     "metadata": {},
     "outputs": [
      {
       "output_type": "stream",
       "stream": "stdout",
       "text": [
        "type        date  Model-A  Model-B  Model-C  Model-D\n",
        "0     2014-02-16        3        8        0       11\n",
        "1     2014-02-17        9        1        0        0\n",
        "2     2014-02-18        1        9        7        7\n",
        "3     2014-02-19        3        0        3        0\n",
        "\n",
        "[4 rows x 5 columns]\n"
       ]
      }
     ],
     "prompt_number": 30
    },
    {
     "cell_type": "markdown",
     "metadata": {},
     "source": [
      "### Convert to a `numpy` array"
     ]
    },
    {
     "cell_type": "code",
     "collapsed": false,
     "input": [
      "print tmp.set_index('date')"
     ],
     "language": "python",
     "metadata": {},
     "outputs": [
      {
       "output_type": "stream",
       "stream": "stdout",
       "text": [
        "            Model-A  Model-B  Model-C  Model-D\n",
        "date                                          \n",
        "2014-02-16        3        8        0       11\n",
        "2014-02-17        9        1        0        0\n",
        "2014-02-18        1        9        7        7\n",
        "2014-02-19        3        0        3        0\n",
        "\n",
        "[4 rows x 4 columns]\n"
       ]
      }
     ],
     "prompt_number": 31
    },
    {
     "cell_type": "code",
     "collapsed": false,
     "input": [
      "X = tmp.set_index('date').as_matrix()\n",
      "X"
     ],
     "language": "python",
     "metadata": {},
     "outputs": [
      {
       "metadata": {},
       "output_type": "pyout",
       "prompt_number": 32,
       "text": [
        "array([[  3.,   8.,   0.,  11.],\n",
        "       [  9.,   1.,   0.,   0.],\n",
        "       [  1.,   9.,   7.,   7.],\n",
        "       [  3.,   0.,   3.,   0.]])"
       ]
      }
     ],
     "prompt_number": 32
    },
    {
     "cell_type": "markdown",
     "metadata": {},
     "source": [
      "### Reshape with `melt`"
     ]
    },
    {
     "cell_type": "code",
     "collapsed": false,
     "input": [
      "results = df.pivot('date','type', 'value')\n",
      "print results"
     ],
     "language": "python",
     "metadata": {},
     "outputs": [
      {
       "output_type": "stream",
       "stream": "stdout",
       "text": [
        "type        Model-A  Model-B  Model-C  Model-D\n",
        "date                                          \n",
        "2014-02-16        3        8      NaN       11\n",
        "2014-02-17        9        1        0      NaN\n",
        "2014-02-18        1        9        7        7\n",
        "2014-02-19        3        0        3      NaN\n",
        "\n",
        "[4 rows x 4 columns]\n"
       ]
      }
     ],
     "prompt_number": 33
    },
    {
     "cell_type": "code",
     "collapsed": false,
     "input": [
      "results.reset_index(inplace=True)\n",
      "print results"
     ],
     "language": "python",
     "metadata": {},
     "outputs": [
      {
       "output_type": "stream",
       "stream": "stdout",
       "text": [
        "type        date  Model-A  Model-B  Model-C  Model-D\n",
        "0     2014-02-16        3        8      NaN       11\n",
        "1     2014-02-17        9        1        0      NaN\n",
        "2     2014-02-18        1        9        7        7\n",
        "3     2014-02-19        3        0        3      NaN\n",
        "\n",
        "[4 rows x 5 columns]\n"
       ]
      }
     ],
     "prompt_number": 34
    },
    {
     "cell_type": "code",
     "collapsed": false,
     "input": [
      "back = pd.melt(results, id_vars=['date'])\n",
      "print back"
     ],
     "language": "python",
     "metadata": {},
     "outputs": [
      {
       "output_type": "stream",
       "stream": "stdout",
       "text": [
        "          date     type  value\n",
        "0   2014-02-16  Model-A      3\n",
        "1   2014-02-17  Model-A      9\n",
        "2   2014-02-18  Model-A      1\n",
        "3   2014-02-19  Model-A      3\n",
        "4   2014-02-16  Model-B      8\n",
        "5   2014-02-17  Model-B      1\n",
        "6   2014-02-18  Model-B      9\n",
        "7   2014-02-19  Model-B      0\n",
        "8   2014-02-16  Model-C    NaN\n",
        "9   2014-02-17  Model-C      0\n",
        "10  2014-02-18  Model-C      7\n",
        "11  2014-02-19  Model-C      3\n",
        "12  2014-02-16  Model-D     11\n",
        "13  2014-02-17  Model-D    NaN\n",
        "14  2014-02-18  Model-D      7\n",
        "15  2014-02-19  Model-D    NaN\n",
        "\n",
        "[16 rows x 3 columns]\n"
       ]
      }
     ],
     "prompt_number": 35
    },
    {
     "cell_type": "markdown",
     "metadata": {},
     "source": [
      "### `dropna()`"
     ]
    },
    {
     "cell_type": "code",
     "collapsed": false,
     "input": [
      "back.dropna(axis=0)"
     ],
     "language": "python",
     "metadata": {},
     "outputs": [
      {
       "html": [
        "<div style=\"max-height:1000px;max-width:1500px;overflow:auto;\">\n",
        "<table border=\"1\" class=\"dataframe\">\n",
        "  <thead>\n",
        "    <tr style=\"text-align: right;\">\n",
        "      <th></th>\n",
        "      <th>date</th>\n",
        "      <th>type</th>\n",
        "      <th>value</th>\n",
        "    </tr>\n",
        "  </thead>\n",
        "  <tbody>\n",
        "    <tr>\n",
        "      <th>0 </th>\n",
        "      <td> 2014-02-16</td>\n",
        "      <td> Model-A</td>\n",
        "      <td>  3</td>\n",
        "    </tr>\n",
        "    <tr>\n",
        "      <th>1 </th>\n",
        "      <td> 2014-02-17</td>\n",
        "      <td> Model-A</td>\n",
        "      <td>  9</td>\n",
        "    </tr>\n",
        "    <tr>\n",
        "      <th>2 </th>\n",
        "      <td> 2014-02-18</td>\n",
        "      <td> Model-A</td>\n",
        "      <td>  1</td>\n",
        "    </tr>\n",
        "    <tr>\n",
        "      <th>3 </th>\n",
        "      <td> 2014-02-19</td>\n",
        "      <td> Model-A</td>\n",
        "      <td>  3</td>\n",
        "    </tr>\n",
        "    <tr>\n",
        "      <th>4 </th>\n",
        "      <td> 2014-02-16</td>\n",
        "      <td> Model-B</td>\n",
        "      <td>  8</td>\n",
        "    </tr>\n",
        "    <tr>\n",
        "      <th>5 </th>\n",
        "      <td> 2014-02-17</td>\n",
        "      <td> Model-B</td>\n",
        "      <td>  1</td>\n",
        "    </tr>\n",
        "    <tr>\n",
        "      <th>6 </th>\n",
        "      <td> 2014-02-18</td>\n",
        "      <td> Model-B</td>\n",
        "      <td>  9</td>\n",
        "    </tr>\n",
        "    <tr>\n",
        "      <th>7 </th>\n",
        "      <td> 2014-02-19</td>\n",
        "      <td> Model-B</td>\n",
        "      <td>  0</td>\n",
        "    </tr>\n",
        "    <tr>\n",
        "      <th>9 </th>\n",
        "      <td> 2014-02-17</td>\n",
        "      <td> Model-C</td>\n",
        "      <td>  0</td>\n",
        "    </tr>\n",
        "    <tr>\n",
        "      <th>10</th>\n",
        "      <td> 2014-02-18</td>\n",
        "      <td> Model-C</td>\n",
        "      <td>  7</td>\n",
        "    </tr>\n",
        "    <tr>\n",
        "      <th>11</th>\n",
        "      <td> 2014-02-19</td>\n",
        "      <td> Model-C</td>\n",
        "      <td>  3</td>\n",
        "    </tr>\n",
        "    <tr>\n",
        "      <th>12</th>\n",
        "      <td> 2014-02-16</td>\n",
        "      <td> Model-D</td>\n",
        "      <td> 11</td>\n",
        "    </tr>\n",
        "    <tr>\n",
        "      <th>14</th>\n",
        "      <td> 2014-02-18</td>\n",
        "      <td> Model-D</td>\n",
        "      <td>  7</td>\n",
        "    </tr>\n",
        "  </tbody>\n",
        "</table>\n",
        "<p>13 rows \u00d7 3 columns</p>\n",
        "</div>"
       ],
       "metadata": {},
       "output_type": "pyout",
       "prompt_number": 36,
       "text": [
        "          date     type  value\n",
        "0   2014-02-16  Model-A      3\n",
        "1   2014-02-17  Model-A      9\n",
        "2   2014-02-18  Model-A      1\n",
        "3   2014-02-19  Model-A      3\n",
        "4   2014-02-16  Model-B      8\n",
        "5   2014-02-17  Model-B      1\n",
        "6   2014-02-18  Model-B      9\n",
        "7   2014-02-19  Model-B      0\n",
        "9   2014-02-17  Model-C      0\n",
        "10  2014-02-18  Model-C      7\n",
        "11  2014-02-19  Model-C      3\n",
        "12  2014-02-16  Model-D     11\n",
        "14  2014-02-18  Model-D      7\n",
        "\n",
        "[13 rows x 3 columns]"
       ]
      }
     ],
     "prompt_number": 36
    },
    {
     "cell_type": "code",
     "collapsed": false,
     "input": [
      "back.dropna(axis=1).head()"
     ],
     "language": "python",
     "metadata": {},
     "outputs": [
      {
       "html": [
        "<div style=\"max-height:1000px;max-width:1500px;overflow:auto;\">\n",
        "<table border=\"1\" class=\"dataframe\">\n",
        "  <thead>\n",
        "    <tr style=\"text-align: right;\">\n",
        "      <th></th>\n",
        "      <th>date</th>\n",
        "      <th>type</th>\n",
        "    </tr>\n",
        "  </thead>\n",
        "  <tbody>\n",
        "    <tr>\n",
        "      <th>0</th>\n",
        "      <td> 2014-02-16</td>\n",
        "      <td> Model-A</td>\n",
        "    </tr>\n",
        "    <tr>\n",
        "      <th>1</th>\n",
        "      <td> 2014-02-17</td>\n",
        "      <td> Model-A</td>\n",
        "    </tr>\n",
        "    <tr>\n",
        "      <th>2</th>\n",
        "      <td> 2014-02-18</td>\n",
        "      <td> Model-A</td>\n",
        "    </tr>\n",
        "    <tr>\n",
        "      <th>3</th>\n",
        "      <td> 2014-02-19</td>\n",
        "      <td> Model-A</td>\n",
        "    </tr>\n",
        "    <tr>\n",
        "      <th>4</th>\n",
        "      <td> 2014-02-16</td>\n",
        "      <td> Model-B</td>\n",
        "    </tr>\n",
        "  </tbody>\n",
        "</table>\n",
        "<p>5 rows \u00d7 2 columns</p>\n",
        "</div>"
       ],
       "metadata": {},
       "output_type": "pyout",
       "prompt_number": 37,
       "text": [
        "         date     type\n",
        "0  2014-02-16  Model-A\n",
        "1  2014-02-17  Model-A\n",
        "2  2014-02-18  Model-A\n",
        "3  2014-02-19  Model-A\n",
        "4  2014-02-16  Model-B\n",
        "\n",
        "[5 rows x 2 columns]"
       ]
      }
     ],
     "prompt_number": 37
    },
    {
     "cell_type": "markdown",
     "metadata": {},
     "source": [
      "### Write to file `to_csv`"
     ]
    },
    {
     "cell_type": "code",
     "collapsed": false,
     "input": [
      "back.dropna(axis=0, inplace=True)"
     ],
     "language": "python",
     "metadata": {},
     "outputs": [],
     "prompt_number": 38
    },
    {
     "cell_type": "code",
     "collapsed": false,
     "input": [
      "back.to_csv('back.csv', index=False)"
     ],
     "language": "python",
     "metadata": {},
     "outputs": [],
     "prompt_number": 39
    },
    {
     "cell_type": "code",
     "collapsed": false,
     "input": [
      "print open('back.csv').read()"
     ],
     "language": "python",
     "metadata": {},
     "outputs": [
      {
       "output_type": "stream",
       "stream": "stdout",
       "text": [
        "date,type,value\n",
        "2014-02-16,Model-A,3.0\n",
        "2014-02-17,Model-A,9.0\n",
        "2014-02-18,Model-A,1.0\n",
        "2014-02-19,Model-A,3.0\n",
        "2014-02-16,Model-B,8.0\n",
        "2014-02-17,Model-B,1.0\n",
        "2014-02-18,Model-B,9.0\n",
        "2014-02-19,Model-B,0.0\n",
        "2014-02-17,Model-C,0.0\n",
        "2014-02-18,Model-C,7.0\n",
        "2014-02-19,Model-C,3.0\n",
        "2014-02-16,Model-D,11.0\n",
        "2014-02-18,Model-D,7.0\n",
        "\n"
       ]
      }
     ],
     "prompt_number": 40
    },
    {
     "cell_type": "markdown",
     "metadata": {},
     "source": [
      "###Hierarchical Indexing\n",
      "\n",
      "Based on [Data Wrangling Kung Fu with Pandas](vimeo.com/63295598) by Wes McKinney"
     ]
    },
    {
     "cell_type": "code",
     "collapsed": false,
     "input": [
      "import os\n",
      "import pandas as  pd\n",
      "import numpy as np"
     ],
     "language": "python",
     "metadata": {},
     "outputs": [],
     "prompt_number": 41
    },
    {
     "cell_type": "code",
     "collapsed": false,
     "input": [
      "filename = os.path.join('data','example.csv')\n",
      "df = pd.read_csv(filename)\n",
      "print df"
     ],
     "language": "python",
     "metadata": {},
     "outputs": [
      {
       "output_type": "stream",
       "stream": "stdout",
       "text": [
        "          date     type  value\n",
        "0   2014-02-16  Model-A      3\n",
        "1   2014-02-16  Model-B      8\n",
        "2   2014-02-16  Model-C      1\n",
        "3   2014-02-17  Model-A      9\n",
        "4   2014-02-17  Model-B      1\n",
        "5   2014-02-17  Model-C      0\n",
        "6   2014-02-18  Model-A      1\n",
        "7   2014-02-18  Model-B      9\n",
        "8   2014-02-18  Model-C      7\n",
        "9   2014-02-19  Model-A      3\n",
        "10  2014-02-19  Model-B      0\n",
        "11  2014-02-19  Model-C      3\n",
        "\n",
        "[12 rows x 3 columns]\n"
       ]
      }
     ],
     "prompt_number": 42
    },
    {
     "cell_type": "markdown",
     "metadata": {},
     "source": [
      "### Add another column of data"
     ]
    },
    {
     "cell_type": "code",
     "collapsed": false,
     "input": [
      "df.shape"
     ],
     "language": "python",
     "metadata": {},
     "outputs": [
      {
       "metadata": {},
       "output_type": "pyout",
       "prompt_number": 43,
       "text": [
        "(12, 3)"
       ]
      }
     ],
     "prompt_number": 43
    },
    {
     "cell_type": "code",
     "collapsed": false,
     "input": [
      "df['score'] = np.random.rand(len(df))\n",
      "df.shape"
     ],
     "language": "python",
     "metadata": {},
     "outputs": [
      {
       "metadata": {},
       "output_type": "pyout",
       "prompt_number": 44,
       "text": [
        "(12, 4)"
       ]
      }
     ],
     "prompt_number": 44
    },
    {
     "cell_type": "code",
     "collapsed": false,
     "input": [
      "print df.head()"
     ],
     "language": "python",
     "metadata": {},
     "outputs": [
      {
       "output_type": "stream",
       "stream": "stdout",
       "text": [
        "         date     type  value     score\n",
        "0  2014-02-16  Model-A      3  0.474634\n",
        "1  2014-02-16  Model-B      8  0.303833\n",
        "2  2014-02-16  Model-C      1  0.158538\n",
        "3  2014-02-17  Model-A      9  0.463575\n",
        "4  2014-02-17  Model-B      1  0.011562\n",
        "\n",
        "[5 rows x 4 columns]\n"
       ]
      }
     ],
     "prompt_number": 45
    },
    {
     "cell_type": "markdown",
     "metadata": {},
     "source": [
      "### Hierarchical columns"
     ]
    },
    {
     "cell_type": "code",
     "collapsed": false,
     "input": [
      "results = df.pivot('date', 'type') #row, column, values (optional)\n",
      "print results"
     ],
     "language": "python",
     "metadata": {},
     "outputs": [
      {
       "output_type": "stream",
       "stream": "stdout",
       "text": [
        "              value                       score                    \n",
        "type        Model-A  Model-B  Model-C   Model-A   Model-B   Model-C\n",
        "date                                                               \n",
        "2014-02-16        3        8        1  0.474634  0.303833  0.158538\n",
        "2014-02-17        9        1        0  0.463575  0.011562  0.249255\n",
        "2014-02-18        1        9        7  0.853937  0.827778  0.882681\n",
        "2014-02-19        3        0        3  0.636476  0.132104  0.838051\n",
        "\n",
        "[4 rows x 6 columns]\n"
       ]
      }
     ],
     "prompt_number": 46
    },
    {
     "cell_type": "markdown",
     "metadata": {},
     "source": [
      "I have a hierarchical index on the columns:"
     ]
    },
    {
     "cell_type": "code",
     "collapsed": false,
     "input": [
      "results.columns"
     ],
     "language": "python",
     "metadata": {},
     "outputs": [
      {
       "metadata": {},
       "output_type": "pyout",
       "prompt_number": 47,
       "text": [
        "MultiIndex(levels=[[u'value', u'score'], [u'Model-A', u'Model-B', u'Model-C']],\n",
        "           labels=[[0, 0, 0, 1, 1, 1], [0, 1, 2, 0, 1, 2]],\n",
        "           names=[None, u'type'])"
       ]
      }
     ],
     "prompt_number": 47
    },
    {
     "cell_type": "code",
     "collapsed": false,
     "input": [
      "results.count(axis=1)"
     ],
     "language": "python",
     "metadata": {},
     "outputs": [
      {
       "metadata": {},
       "output_type": "pyout",
       "prompt_number": 48,
       "text": [
        "date\n",
        "2014-02-16    6\n",
        "2014-02-17    6\n",
        "2014-02-18    6\n",
        "2014-02-19    6\n",
        "dtype: int64"
       ]
      }
     ],
     "prompt_number": 48
    },
    {
     "cell_type": "code",
     "collapsed": false,
     "input": [
      "results['value'].count(axis=1)"
     ],
     "language": "python",
     "metadata": {},
     "outputs": [
      {
       "metadata": {},
       "output_type": "pyout",
       "prompt_number": 49,
       "text": [
        "date\n",
        "2014-02-16    3\n",
        "2014-02-17    3\n",
        "2014-02-18    3\n",
        "2014-02-19    3\n",
        "dtype: int64"
       ]
      }
     ],
     "prompt_number": 49
    },
    {
     "cell_type": "markdown",
     "metadata": {},
     "source": [
      "I can access each component of the index."
     ]
    },
    {
     "cell_type": "code",
     "collapsed": false,
     "input": [
      "print results['score']['Model-A']"
     ],
     "language": "python",
     "metadata": {},
     "outputs": [
      {
       "output_type": "stream",
       "stream": "stdout",
       "text": [
        "date\n",
        "2014-02-16    0.474634\n",
        "2014-02-17    0.463575\n",
        "2014-02-18    0.853937\n",
        "2014-02-19    0.636476\n",
        "Name: Model-A, dtype: float64\n"
       ]
      }
     ],
     "prompt_number": 50
    },
    {
     "cell_type": "markdown",
     "metadata": {},
     "source": [
      "Swap the order of the index."
     ]
    },
    {
     "cell_type": "code",
     "collapsed": false,
     "input": [
      "tmp = results.swaplevel(0,1, axis=1)\n",
      "print tmp"
     ],
     "language": "python",
     "metadata": {},
     "outputs": [
      {
       "output_type": "stream",
       "stream": "stdout",
       "text": [
        "type        Model-A  Model-B  Model-C   Model-A   Model-B   Model-C\n",
        "              value    value    value     score     score     score\n",
        "date                                                               \n",
        "2014-02-16        3        8        1  0.474634  0.303833  0.158538\n",
        "2014-02-17        9        1        0  0.463575  0.011562  0.249255\n",
        "2014-02-18        1        9        7  0.853937  0.827778  0.882681\n",
        "2014-02-19        3        0        3  0.636476  0.132104  0.838051\n",
        "\n",
        "[4 rows x 6 columns]\n"
       ]
      }
     ],
     "prompt_number": 51
    },
    {
     "cell_type": "code",
     "collapsed": false,
     "input": [
      "print tmp['Model-A']"
     ],
     "language": "python",
     "metadata": {},
     "outputs": [
      {
       "output_type": "stream",
       "stream": "stdout",
       "text": [
        "            value     score\n",
        "date                       \n",
        "2014-02-16      3  0.474634\n",
        "2014-02-17      9  0.463575\n",
        "2014-02-18      1  0.853937\n",
        "2014-02-19      3  0.636476\n",
        "\n",
        "[4 rows x 2 columns]\n"
       ]
      }
     ],
     "prompt_number": 52
    },
    {
     "cell_type": "markdown",
     "metadata": {},
     "source": [
      "### `stack` and `unstack`\n",
      "\n"
     ]
    },
    {
     "cell_type": "code",
     "collapsed": false,
     "input": [
      "print results"
     ],
     "language": "python",
     "metadata": {},
     "outputs": [
      {
       "output_type": "stream",
       "stream": "stdout",
       "text": [
        "              value                       score                    \n",
        "type        Model-A  Model-B  Model-C   Model-A   Model-B   Model-C\n",
        "date                                                               \n",
        "2014-02-16        3        8        1  0.474634  0.303833  0.158538\n",
        "2014-02-17        9        1        0  0.463575  0.011562  0.249255\n",
        "2014-02-18        1        9        7  0.853937  0.827778  0.882681\n",
        "2014-02-19        3        0        3  0.636476  0.132104  0.838051\n",
        "\n",
        "[4 rows x 6 columns]\n"
       ]
      }
     ],
     "prompt_number": 53
    },
    {
     "cell_type": "code",
     "collapsed": false,
     "input": [
      "print results.stack() #Defaults to highest level, eg. 1 in this case"
     ],
     "language": "python",
     "metadata": {},
     "outputs": [
      {
       "output_type": "stream",
       "stream": "stdout",
       "text": [
        "                    value     score\n",
        "date       type                    \n",
        "2014-02-16 Model-A      3  0.474634\n",
        "           Model-B      8  0.303833\n",
        "           Model-C      1  0.158538\n",
        "2014-02-17 Model-A      9  0.463575\n",
        "           Model-B      1  0.011562\n",
        "           Model-C      0  0.249255\n",
        "2014-02-18 Model-A      1  0.853937\n",
        "           Model-B      9  0.827778\n",
        "           Model-C      7  0.882681\n",
        "2014-02-19 Model-A      3  0.636476\n",
        "           Model-B      0  0.132104\n",
        "           Model-C      3  0.838051\n",
        "\n",
        "[12 rows x 2 columns]\n"
       ]
      }
     ],
     "prompt_number": 54
    },
    {
     "cell_type": "markdown",
     "metadata": {},
     "source": [
      "Now we have a hierarchical index on the rows."
     ]
    },
    {
     "cell_type": "code",
     "collapsed": false,
     "input": [
      "print results.stack().index"
     ],
     "language": "python",
     "metadata": {},
     "outputs": [
      {
       "output_type": "stream",
       "stream": "stdout",
       "text": [
        "date        type   \n",
        "2014-02-16  Model-A\n",
        "            Model-B\n",
        "            Model-C\n",
        "2014-02-17  Model-A\n",
        "            Model-B\n",
        "            Model-C\n",
        "2014-02-18  Model-A\n",
        "            Model-B\n",
        "            Model-C\n",
        "2014-02-19  Model-A\n",
        "            Model-B\n",
        "            Model-C\n"
       ]
      }
     ],
     "prompt_number": 55
    },
    {
     "cell_type": "code",
     "collapsed": false,
     "input": [
      "print results.stack(0)"
     ],
     "language": "python",
     "metadata": {},
     "outputs": [
      {
       "output_type": "stream",
       "stream": "stdout",
       "text": [
        "type               Model-A   Model-B   Model-C\n",
        "date                                          \n",
        "2014-02-16 value  3.000000  8.000000  1.000000\n",
        "           score  0.474634  0.303833  0.158538\n",
        "2014-02-17 value  9.000000  1.000000  0.000000\n",
        "           score  0.463575  0.011562  0.249255\n",
        "2014-02-18 value  1.000000  9.000000  7.000000\n",
        "           score  0.853937  0.827778  0.882681\n",
        "2014-02-19 value  3.000000  0.000000  3.000000\n",
        "           score  0.636476  0.132104  0.838051\n",
        "\n",
        "[8 rows x 3 columns]\n"
       ]
      }
     ],
     "prompt_number": 56
    },
    {
     "cell_type": "code",
     "collapsed": false,
     "input": [
      "print results.stack(0).unstack()"
     ],
     "language": "python",
     "metadata": {},
     "outputs": [
      {
       "output_type": "stream",
       "stream": "stdout",
       "text": [
        "type        Model-A            Model-B            Model-C          \n",
        "              value     score    value     score    value     score\n",
        "date                                                               \n",
        "2014-02-16        3  0.474634        8  0.303833        1  0.158538\n",
        "2014-02-17        9  0.463575        1  0.011562        0  0.249255\n",
        "2014-02-18        1  0.853937        9  0.827778        7  0.882681\n",
        "2014-02-19        3  0.636476        0  0.132104        3  0.838051\n",
        "\n",
        "[4 rows x 6 columns]\n"
       ]
      }
     ],
     "prompt_number": 57
    },
    {
     "cell_type": "markdown",
     "metadata": {},
     "source": [
      "###Hierarchical Rows"
     ]
    },
    {
     "cell_type": "code",
     "collapsed": false,
     "input": [
      "df.head()"
     ],
     "language": "python",
     "metadata": {},
     "outputs": [
      {
       "html": [
        "<div style=\"max-height:1000px;max-width:1500px;overflow:auto;\">\n",
        "<table border=\"1\" class=\"dataframe\">\n",
        "  <thead>\n",
        "    <tr style=\"text-align: right;\">\n",
        "      <th></th>\n",
        "      <th>date</th>\n",
        "      <th>type</th>\n",
        "      <th>value</th>\n",
        "      <th>score</th>\n",
        "    </tr>\n",
        "  </thead>\n",
        "  <tbody>\n",
        "    <tr>\n",
        "      <th>0</th>\n",
        "      <td> 2014-02-16</td>\n",
        "      <td> Model-A</td>\n",
        "      <td> 3</td>\n",
        "      <td> 0.474634</td>\n",
        "    </tr>\n",
        "    <tr>\n",
        "      <th>1</th>\n",
        "      <td> 2014-02-16</td>\n",
        "      <td> Model-B</td>\n",
        "      <td> 8</td>\n",
        "      <td> 0.303833</td>\n",
        "    </tr>\n",
        "    <tr>\n",
        "      <th>2</th>\n",
        "      <td> 2014-02-16</td>\n",
        "      <td> Model-C</td>\n",
        "      <td> 1</td>\n",
        "      <td> 0.158538</td>\n",
        "    </tr>\n",
        "    <tr>\n",
        "      <th>3</th>\n",
        "      <td> 2014-02-17</td>\n",
        "      <td> Model-A</td>\n",
        "      <td> 9</td>\n",
        "      <td> 0.463575</td>\n",
        "    </tr>\n",
        "    <tr>\n",
        "      <th>4</th>\n",
        "      <td> 2014-02-17</td>\n",
        "      <td> Model-B</td>\n",
        "      <td> 1</td>\n",
        "      <td> 0.011562</td>\n",
        "    </tr>\n",
        "  </tbody>\n",
        "</table>\n",
        "<p>5 rows \u00d7 4 columns</p>\n",
        "</div>"
       ],
       "metadata": {},
       "output_type": "pyout",
       "prompt_number": 58,
       "text": [
        "         date     type  value     score\n",
        "0  2014-02-16  Model-A      3  0.474634\n",
        "1  2014-02-16  Model-B      8  0.303833\n",
        "2  2014-02-16  Model-C      1  0.158538\n",
        "3  2014-02-17  Model-A      9  0.463575\n",
        "4  2014-02-17  Model-B      1  0.011562\n",
        "\n",
        "[5 rows x 4 columns]"
       ]
      }
     ],
     "prompt_number": 58
    },
    {
     "cell_type": "code",
     "collapsed": false,
     "input": [
      "df.set_index(['date','type'], inplace=True)\n",
      "df.head()"
     ],
     "language": "python",
     "metadata": {},
     "outputs": [
      {
       "html": [
        "<div style=\"max-height:1000px;max-width:1500px;overflow:auto;\">\n",
        "<table border=\"1\" class=\"dataframe\">\n",
        "  <thead>\n",
        "    <tr style=\"text-align: right;\">\n",
        "      <th></th>\n",
        "      <th></th>\n",
        "      <th>value</th>\n",
        "      <th>score</th>\n",
        "    </tr>\n",
        "    <tr>\n",
        "      <th>date</th>\n",
        "      <th>type</th>\n",
        "      <th></th>\n",
        "      <th></th>\n",
        "    </tr>\n",
        "  </thead>\n",
        "  <tbody>\n",
        "    <tr>\n",
        "      <th rowspan=\"3\" valign=\"top\">2014-02-16</th>\n",
        "      <th>Model-A</th>\n",
        "      <td> 3</td>\n",
        "      <td> 0.474634</td>\n",
        "    </tr>\n",
        "    <tr>\n",
        "      <th>Model-B</th>\n",
        "      <td> 8</td>\n",
        "      <td> 0.303833</td>\n",
        "    </tr>\n",
        "    <tr>\n",
        "      <th>Model-C</th>\n",
        "      <td> 1</td>\n",
        "      <td> 0.158538</td>\n",
        "    </tr>\n",
        "    <tr>\n",
        "      <th rowspan=\"2\" valign=\"top\">2014-02-17</th>\n",
        "      <th>Model-A</th>\n",
        "      <td> 9</td>\n",
        "      <td> 0.463575</td>\n",
        "    </tr>\n",
        "    <tr>\n",
        "      <th>Model-B</th>\n",
        "      <td> 1</td>\n",
        "      <td> 0.011562</td>\n",
        "    </tr>\n",
        "  </tbody>\n",
        "</table>\n",
        "<p>5 rows \u00d7 2 columns</p>\n",
        "</div>"
       ],
       "metadata": {},
       "output_type": "pyout",
       "prompt_number": 59,
       "text": [
        "                    value     score\n",
        "date       type                    \n",
        "2014-02-16 Model-A      3  0.474634\n",
        "           Model-B      8  0.303833\n",
        "           Model-C      1  0.158538\n",
        "2014-02-17 Model-A      9  0.463575\n",
        "           Model-B      1  0.011562\n",
        "\n",
        "[5 rows x 2 columns]"
       ]
      }
     ],
     "prompt_number": 59
    },
    {
     "cell_type": "markdown",
     "metadata": {},
     "source": [
      "Accessing index by name"
     ]
    },
    {
     "cell_type": "code",
     "collapsed": false,
     "input": [
      "df.ix['2014-02-16']"
     ],
     "language": "python",
     "metadata": {},
     "outputs": [
      {
       "html": [
        "<div style=\"max-height:1000px;max-width:1500px;overflow:auto;\">\n",
        "<table border=\"1\" class=\"dataframe\">\n",
        "  <thead>\n",
        "    <tr style=\"text-align: right;\">\n",
        "      <th></th>\n",
        "      <th>value</th>\n",
        "      <th>score</th>\n",
        "    </tr>\n",
        "    <tr>\n",
        "      <th>type</th>\n",
        "      <th></th>\n",
        "      <th></th>\n",
        "    </tr>\n",
        "  </thead>\n",
        "  <tbody>\n",
        "    <tr>\n",
        "      <th>Model-A</th>\n",
        "      <td> 3</td>\n",
        "      <td> 0.474634</td>\n",
        "    </tr>\n",
        "    <tr>\n",
        "      <th>Model-B</th>\n",
        "      <td> 8</td>\n",
        "      <td> 0.303833</td>\n",
        "    </tr>\n",
        "    <tr>\n",
        "      <th>Model-C</th>\n",
        "      <td> 1</td>\n",
        "      <td> 0.158538</td>\n",
        "    </tr>\n",
        "  </tbody>\n",
        "</table>\n",
        "<p>3 rows \u00d7 2 columns</p>\n",
        "</div>"
       ],
       "metadata": {},
       "output_type": "pyout",
       "prompt_number": 60,
       "text": [
        "         value     score\n",
        "type                    \n",
        "Model-A      3  0.474634\n",
        "Model-B      8  0.303833\n",
        "Model-C      1  0.158538\n",
        "\n",
        "[3 rows x 2 columns]"
       ]
      }
     ],
     "prompt_number": 60
    },
    {
     "cell_type": "code",
     "collapsed": false,
     "input": [
      "df.swaplevel(0,1, axis=0).ix['Model-A']"
     ],
     "language": "python",
     "metadata": {},
     "outputs": [
      {
       "html": [
        "<div style=\"max-height:1000px;max-width:1500px;overflow:auto;\">\n",
        "<table border=\"1\" class=\"dataframe\">\n",
        "  <thead>\n",
        "    <tr style=\"text-align: right;\">\n",
        "      <th></th>\n",
        "      <th>value</th>\n",
        "      <th>score</th>\n",
        "    </tr>\n",
        "    <tr>\n",
        "      <th>date</th>\n",
        "      <th></th>\n",
        "      <th></th>\n",
        "    </tr>\n",
        "  </thead>\n",
        "  <tbody>\n",
        "    <tr>\n",
        "      <th>2014-02-16</th>\n",
        "      <td> 3</td>\n",
        "      <td> 0.474634</td>\n",
        "    </tr>\n",
        "    <tr>\n",
        "      <th>2014-02-17</th>\n",
        "      <td> 9</td>\n",
        "      <td> 0.463575</td>\n",
        "    </tr>\n",
        "    <tr>\n",
        "      <th>2014-02-18</th>\n",
        "      <td> 1</td>\n",
        "      <td> 0.853937</td>\n",
        "    </tr>\n",
        "    <tr>\n",
        "      <th>2014-02-19</th>\n",
        "      <td> 3</td>\n",
        "      <td> 0.636476</td>\n",
        "    </tr>\n",
        "  </tbody>\n",
        "</table>\n",
        "<p>4 rows \u00d7 2 columns</p>\n",
        "</div>"
       ],
       "metadata": {},
       "output_type": "pyout",
       "prompt_number": 61,
       "text": [
        "            value     score\n",
        "date                       \n",
        "2014-02-16      3  0.474634\n",
        "2014-02-17      9  0.463575\n",
        "2014-02-18      1  0.853937\n",
        "2014-02-19      3  0.636476\n",
        "\n",
        "[4 rows x 2 columns]"
       ]
      }
     ],
     "prompt_number": 61
    },
    {
     "cell_type": "code",
     "collapsed": false,
     "input": [
      "df.unstack()"
     ],
     "language": "python",
     "metadata": {},
     "outputs": [
      {
       "html": [
        "<div style=\"max-height:1000px;max-width:1500px;overflow:auto;\">\n",
        "<table border=\"1\" class=\"dataframe\">\n",
        "  <thead>\n",
        "    <tr>\n",
        "      <th></th>\n",
        "      <th colspan=\"3\" halign=\"left\">value</th>\n",
        "      <th colspan=\"3\" halign=\"left\">score</th>\n",
        "    </tr>\n",
        "    <tr>\n",
        "      <th>type</th>\n",
        "      <th>Model-A</th>\n",
        "      <th>Model-B</th>\n",
        "      <th>Model-C</th>\n",
        "      <th>Model-A</th>\n",
        "      <th>Model-B</th>\n",
        "      <th>Model-C</th>\n",
        "    </tr>\n",
        "    <tr>\n",
        "      <th>date</th>\n",
        "      <th></th>\n",
        "      <th></th>\n",
        "      <th></th>\n",
        "      <th></th>\n",
        "      <th></th>\n",
        "      <th></th>\n",
        "    </tr>\n",
        "  </thead>\n",
        "  <tbody>\n",
        "    <tr>\n",
        "      <th>2014-02-16</th>\n",
        "      <td> 3</td>\n",
        "      <td> 8</td>\n",
        "      <td> 1</td>\n",
        "      <td> 0.474634</td>\n",
        "      <td> 0.303833</td>\n",
        "      <td> 0.158538</td>\n",
        "    </tr>\n",
        "    <tr>\n",
        "      <th>2014-02-17</th>\n",
        "      <td> 9</td>\n",
        "      <td> 1</td>\n",
        "      <td> 0</td>\n",
        "      <td> 0.463575</td>\n",
        "      <td> 0.011562</td>\n",
        "      <td> 0.249255</td>\n",
        "    </tr>\n",
        "    <tr>\n",
        "      <th>2014-02-18</th>\n",
        "      <td> 1</td>\n",
        "      <td> 9</td>\n",
        "      <td> 7</td>\n",
        "      <td> 0.853937</td>\n",
        "      <td> 0.827778</td>\n",
        "      <td> 0.882681</td>\n",
        "    </tr>\n",
        "    <tr>\n",
        "      <th>2014-02-19</th>\n",
        "      <td> 3</td>\n",
        "      <td> 0</td>\n",
        "      <td> 3</td>\n",
        "      <td> 0.636476</td>\n",
        "      <td> 0.132104</td>\n",
        "      <td> 0.838051</td>\n",
        "    </tr>\n",
        "  </tbody>\n",
        "</table>\n",
        "<p>4 rows \u00d7 6 columns</p>\n",
        "</div>"
       ],
       "metadata": {},
       "output_type": "pyout",
       "prompt_number": 62,
       "text": [
        "              value                       score                    \n",
        "type        Model-A  Model-B  Model-C   Model-A   Model-B   Model-C\n",
        "date                                                               \n",
        "2014-02-16        3        8        1  0.474634  0.303833  0.158538\n",
        "2014-02-17        9        1        0  0.463575  0.011562  0.249255\n",
        "2014-02-18        1        9        7  0.853937  0.827778  0.882681\n",
        "2014-02-19        3        0        3  0.636476  0.132104  0.838051\n",
        "\n",
        "[4 rows x 6 columns]"
       ]
      }
     ],
     "prompt_number": 62
    }
   ],
   "metadata": {}
  }
 ]
}