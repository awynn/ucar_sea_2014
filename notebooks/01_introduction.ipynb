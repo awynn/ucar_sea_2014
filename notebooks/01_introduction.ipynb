{
 "metadata": {
  "name": "",
  "signature": "sha256:ace956b10f8f014eea7a7ae93ed26e1aa25b9b87eaad3b8c02759e4d6da9b667"
 },
 "nbformat": 3,
 "nbformat_minor": 0,
 "worksheets": [
  {
   "cells": [
    {
     "cell_type": "heading",
     "level": 1,
     "metadata": {},
     "source": [
      "Introduction"
     ]
    },
    {
     "cell_type": "code",
     "collapsed": false,
     "input": [],
     "language": "python",
     "metadata": {},
     "outputs": []
    }
   ],
   "metadata": {}
  }
 ]
}